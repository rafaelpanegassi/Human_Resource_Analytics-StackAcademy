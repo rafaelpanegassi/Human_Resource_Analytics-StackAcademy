{
 "cells": [
  {
   "attachments": {},
   "cell_type": "markdown",
   "id": "60343520",
   "metadata": {},
   "source": [
    "## Stack - Projeto Human Resources Analytics"
   ]
  },
  {
   "attachments": {},
   "cell_type": "markdown",
   "id": "1b1bad41",
   "metadata": {},
   "source": [
    "### Machine Learning."
   ]
  },
  {
   "cell_type": "code",
   "execution_count": 1,
   "id": "8d9b163d",
   "metadata": {},
   "outputs": [],
   "source": [
    "import pandas as pd\n",
    "import datetime\n",
    "import glob\n",
    "from minio import Minio\n",
    "import numpy as np\n",
    "import matplotlib.pyplot as plt"
   ]
  },
  {
   "cell_type": "code",
   "execution_count": 2,
   "id": "f5274952",
   "metadata": {},
   "outputs": [],
   "source": [
    "client = Minio(\n",
    "        \"localhost:9000\",\n",
    "        access_key=\"minioadmin\",\n",
    "        secret_key=\"minioadmin\",\n",
    "        secure=False\n",
    "    )"
   ]
  },
  {
   "attachments": {},
   "cell_type": "markdown",
   "id": "838ed69f",
   "metadata": {},
   "source": [
    "### Baixando o Dataset do Data Lake."
   ]
  },
  {
   "cell_type": "code",
   "execution_count": 3,
   "id": "bfa60edd",
   "metadata": {},
   "outputs": [],
   "source": [
    "client.fget_object(\n",
    "            \"processing\",\n",
    "            \"employees_dataset.parquet\",\n",
    "            \"temp_.parquet\",\n",
    ")\n",
    "df = pd.read_parquet(\"temp_.parquet\")"
   ]
  },
  {
   "cell_type": "code",
   "execution_count": 4,
   "id": "22142337",
   "metadata": {
    "scrolled": true
   },
   "outputs": [
    {
     "data": {
      "text/html": [
       "<div>\n",
       "<style scoped>\n",
       "    .dataframe tbody tr th:only-of-type {\n",
       "        vertical-align: middle;\n",
       "    }\n",
       "\n",
       "    .dataframe tbody tr th {\n",
       "        vertical-align: top;\n",
       "    }\n",
       "\n",
       "    .dataframe thead th {\n",
       "        text-align: right;\n",
       "    }\n",
       "</style>\n",
       "<table border=\"1\" class=\"dataframe\">\n",
       "  <thead>\n",
       "    <tr style=\"text-align: right;\">\n",
       "      <th></th>\n",
       "      <th>department</th>\n",
       "      <th>salary</th>\n",
       "      <th>left</th>\n",
       "      <th>department.1</th>\n",
       "      <th>salary.1</th>\n",
       "      <th>left.1</th>\n",
       "      <th>mean_work_last_3_months</th>\n",
       "      <th>number_projects</th>\n",
       "      <th>satisfaction_level</th>\n",
       "      <th>last_evaluation</th>\n",
       "      <th>time_in_company</th>\n",
       "      <th>work_accident</th>\n",
       "    </tr>\n",
       "  </thead>\n",
       "  <tbody>\n",
       "    <tr>\n",
       "      <th>0</th>\n",
       "      <td>sales</td>\n",
       "      <td>low</td>\n",
       "      <td>1.0</td>\n",
       "      <td>sales</td>\n",
       "      <td>low</td>\n",
       "      <td>1.0</td>\n",
       "      <td>266.000000</td>\n",
       "      <td>2.0</td>\n",
       "      <td>38.0</td>\n",
       "      <td>53.0</td>\n",
       "      <td>3.0</td>\n",
       "      <td>0.0</td>\n",
       "    </tr>\n",
       "    <tr>\n",
       "      <th>1</th>\n",
       "      <td>sales</td>\n",
       "      <td>medium</td>\n",
       "      <td>1.0</td>\n",
       "      <td>sales</td>\n",
       "      <td>medium</td>\n",
       "      <td>1.0</td>\n",
       "      <td>252.000000</td>\n",
       "      <td>5.0</td>\n",
       "      <td>80.0</td>\n",
       "      <td>86.0</td>\n",
       "      <td>6.0</td>\n",
       "      <td>0.0</td>\n",
       "    </tr>\n",
       "    <tr>\n",
       "      <th>2</th>\n",
       "      <td>sales</td>\n",
       "      <td>medium</td>\n",
       "      <td>1.0</td>\n",
       "      <td>sales</td>\n",
       "      <td>medium</td>\n",
       "      <td>1.0</td>\n",
       "      <td>289.666667</td>\n",
       "      <td>7.0</td>\n",
       "      <td>11.0</td>\n",
       "      <td>88.0</td>\n",
       "      <td>4.0</td>\n",
       "      <td>0.0</td>\n",
       "    </tr>\n",
       "    <tr>\n",
       "      <th>3</th>\n",
       "      <td>sales</td>\n",
       "      <td>low</td>\n",
       "      <td>1.0</td>\n",
       "      <td>sales</td>\n",
       "      <td>low</td>\n",
       "      <td>1.0</td>\n",
       "      <td>275.666667</td>\n",
       "      <td>5.0</td>\n",
       "      <td>72.0</td>\n",
       "      <td>87.0</td>\n",
       "      <td>5.0</td>\n",
       "      <td>0.0</td>\n",
       "    </tr>\n",
       "    <tr>\n",
       "      <th>4</th>\n",
       "      <td>sales</td>\n",
       "      <td>low</td>\n",
       "      <td>1.0</td>\n",
       "      <td>sales</td>\n",
       "      <td>low</td>\n",
       "      <td>1.0</td>\n",
       "      <td>292.333333</td>\n",
       "      <td>2.0</td>\n",
       "      <td>37.0</td>\n",
       "      <td>52.0</td>\n",
       "      <td>3.0</td>\n",
       "      <td>0.0</td>\n",
       "    </tr>\n",
       "  </tbody>\n",
       "</table>\n",
       "</div>"
      ],
      "text/plain": [
       "  department  salary  left department.1 salary.1  left.1  \\\n",
       "0      sales     low   1.0        sales      low     1.0   \n",
       "1      sales  medium   1.0        sales   medium     1.0   \n",
       "2      sales  medium   1.0        sales   medium     1.0   \n",
       "3      sales     low   1.0        sales      low     1.0   \n",
       "4      sales     low   1.0        sales      low     1.0   \n",
       "\n",
       "   mean_work_last_3_months  number_projects  satisfaction_level  \\\n",
       "0               266.000000              2.0                38.0   \n",
       "1               252.000000              5.0                80.0   \n",
       "2               289.666667              7.0                11.0   \n",
       "3               275.666667              5.0                72.0   \n",
       "4               292.333333              2.0                37.0   \n",
       "\n",
       "   last_evaluation  time_in_company  work_accident  \n",
       "0             53.0              3.0            0.0  \n",
       "1             86.0              6.0            0.0  \n",
       "2             88.0              4.0            0.0  \n",
       "3             87.0              5.0            0.0  \n",
       "4             52.0              3.0            0.0  "
      ]
     },
     "execution_count": 4,
     "metadata": {},
     "output_type": "execute_result"
    }
   ],
   "source": [
    "df.head()"
   ]
  },
  {
   "attachments": {},
   "cell_type": "markdown",
   "id": "fc2fa009",
   "metadata": {},
   "source": [
    "#### Organizando o dataset."
   ]
  },
  {
   "cell_type": "code",
   "execution_count": 5,
   "id": "2f5b7a35",
   "metadata": {},
   "outputs": [],
   "source": [
    "df = df[['department', 'salary', 'mean_work_last_3_months',\n",
    "       'number_projects', 'satisfaction_level', 'last_evaluation',\n",
    "       'time_in_company', 'work_accident','left']]"
   ]
  },
  {
   "cell_type": "code",
   "execution_count": 6,
   "id": "b95448bd",
   "metadata": {
    "scrolled": true
   },
   "outputs": [
    {
     "data": {
      "text/html": [
       "<div>\n",
       "<style scoped>\n",
       "    .dataframe tbody tr th:only-of-type {\n",
       "        vertical-align: middle;\n",
       "    }\n",
       "\n",
       "    .dataframe tbody tr th {\n",
       "        vertical-align: top;\n",
       "    }\n",
       "\n",
       "    .dataframe thead th {\n",
       "        text-align: right;\n",
       "    }\n",
       "</style>\n",
       "<table border=\"1\" class=\"dataframe\">\n",
       "  <thead>\n",
       "    <tr style=\"text-align: right;\">\n",
       "      <th></th>\n",
       "      <th>department</th>\n",
       "      <th>salary</th>\n",
       "      <th>mean_work_last_3_months</th>\n",
       "      <th>number_projects</th>\n",
       "      <th>satisfaction_level</th>\n",
       "      <th>last_evaluation</th>\n",
       "      <th>time_in_company</th>\n",
       "      <th>work_accident</th>\n",
       "      <th>left</th>\n",
       "    </tr>\n",
       "  </thead>\n",
       "  <tbody>\n",
       "    <tr>\n",
       "      <th>0</th>\n",
       "      <td>sales</td>\n",
       "      <td>low</td>\n",
       "      <td>266.000000</td>\n",
       "      <td>2.0</td>\n",
       "      <td>38.0</td>\n",
       "      <td>53.0</td>\n",
       "      <td>3.0</td>\n",
       "      <td>0.0</td>\n",
       "      <td>1.0</td>\n",
       "    </tr>\n",
       "    <tr>\n",
       "      <th>1</th>\n",
       "      <td>sales</td>\n",
       "      <td>medium</td>\n",
       "      <td>252.000000</td>\n",
       "      <td>5.0</td>\n",
       "      <td>80.0</td>\n",
       "      <td>86.0</td>\n",
       "      <td>6.0</td>\n",
       "      <td>0.0</td>\n",
       "      <td>1.0</td>\n",
       "    </tr>\n",
       "    <tr>\n",
       "      <th>2</th>\n",
       "      <td>sales</td>\n",
       "      <td>medium</td>\n",
       "      <td>289.666667</td>\n",
       "      <td>7.0</td>\n",
       "      <td>11.0</td>\n",
       "      <td>88.0</td>\n",
       "      <td>4.0</td>\n",
       "      <td>0.0</td>\n",
       "      <td>1.0</td>\n",
       "    </tr>\n",
       "    <tr>\n",
       "      <th>3</th>\n",
       "      <td>sales</td>\n",
       "      <td>low</td>\n",
       "      <td>275.666667</td>\n",
       "      <td>5.0</td>\n",
       "      <td>72.0</td>\n",
       "      <td>87.0</td>\n",
       "      <td>5.0</td>\n",
       "      <td>0.0</td>\n",
       "      <td>1.0</td>\n",
       "    </tr>\n",
       "    <tr>\n",
       "      <th>4</th>\n",
       "      <td>sales</td>\n",
       "      <td>low</td>\n",
       "      <td>292.333333</td>\n",
       "      <td>2.0</td>\n",
       "      <td>37.0</td>\n",
       "      <td>52.0</td>\n",
       "      <td>3.0</td>\n",
       "      <td>0.0</td>\n",
       "      <td>1.0</td>\n",
       "    </tr>\n",
       "  </tbody>\n",
       "</table>\n",
       "</div>"
      ],
      "text/plain": [
       "  department  salary  mean_work_last_3_months  number_projects  \\\n",
       "0      sales     low               266.000000              2.0   \n",
       "1      sales  medium               252.000000              5.0   \n",
       "2      sales  medium               289.666667              7.0   \n",
       "3      sales     low               275.666667              5.0   \n",
       "4      sales     low               292.333333              2.0   \n",
       "\n",
       "   satisfaction_level  last_evaluation  time_in_company  work_accident  left  \n",
       "0                38.0             53.0              3.0            0.0   1.0  \n",
       "1                80.0             86.0              6.0            0.0   1.0  \n",
       "2                11.0             88.0              4.0            0.0   1.0  \n",
       "3                72.0             87.0              5.0            0.0   1.0  \n",
       "4                37.0             52.0              3.0            0.0   1.0  "
      ]
     },
     "execution_count": 6,
     "metadata": {},
     "output_type": "execute_result"
    }
   ],
   "source": [
    "df.head()"
   ]
  },
  {
   "attachments": {},
   "cell_type": "markdown",
   "id": "2b4fa52c",
   "metadata": {},
   "source": [
    "#### Verificando os registros missing."
   ]
  },
  {
   "cell_type": "code",
   "execution_count": 7,
   "id": "65e92b9c",
   "metadata": {},
   "outputs": [
    {
     "data": {
      "text/plain": [
       "department                 1\n",
       "salary                     1\n",
       "mean_work_last_3_months    0\n",
       "number_projects            1\n",
       "satisfaction_level         1\n",
       "last_evaluation            1\n",
       "time_in_company            1\n",
       "work_accident              1\n",
       "left                       1\n",
       "dtype: int64"
      ]
     },
     "execution_count": 7,
     "metadata": {},
     "output_type": "execute_result"
    }
   ],
   "source": [
    "df.isnull().sum()"
   ]
  },
  {
   "cell_type": "code",
   "execution_count": 8,
   "id": "a6559f2c",
   "metadata": {},
   "outputs": [
    {
     "data": {
      "text/html": [
       "<div>\n",
       "<style scoped>\n",
       "    .dataframe tbody tr th:only-of-type {\n",
       "        vertical-align: middle;\n",
       "    }\n",
       "\n",
       "    .dataframe tbody tr th {\n",
       "        vertical-align: top;\n",
       "    }\n",
       "\n",
       "    .dataframe thead th {\n",
       "        text-align: right;\n",
       "    }\n",
       "</style>\n",
       "<table border=\"1\" class=\"dataframe\">\n",
       "  <thead>\n",
       "    <tr style=\"text-align: right;\">\n",
       "      <th></th>\n",
       "      <th>department</th>\n",
       "      <th>salary</th>\n",
       "      <th>mean_work_last_3_months</th>\n",
       "      <th>number_projects</th>\n",
       "      <th>satisfaction_level</th>\n",
       "      <th>last_evaluation</th>\n",
       "      <th>time_in_company</th>\n",
       "      <th>work_accident</th>\n",
       "      <th>left</th>\n",
       "    </tr>\n",
       "  </thead>\n",
       "  <tbody>\n",
       "    <tr>\n",
       "      <th>0</th>\n",
       "      <td>sales</td>\n",
       "      <td>low</td>\n",
       "      <td>266.000000</td>\n",
       "      <td>2.0</td>\n",
       "      <td>38.0</td>\n",
       "      <td>53.0</td>\n",
       "      <td>3.0</td>\n",
       "      <td>0.0</td>\n",
       "      <td>1.0</td>\n",
       "    </tr>\n",
       "    <tr>\n",
       "      <th>1</th>\n",
       "      <td>sales</td>\n",
       "      <td>medium</td>\n",
       "      <td>252.000000</td>\n",
       "      <td>5.0</td>\n",
       "      <td>80.0</td>\n",
       "      <td>86.0</td>\n",
       "      <td>6.0</td>\n",
       "      <td>0.0</td>\n",
       "      <td>1.0</td>\n",
       "    </tr>\n",
       "    <tr>\n",
       "      <th>2</th>\n",
       "      <td>sales</td>\n",
       "      <td>medium</td>\n",
       "      <td>289.666667</td>\n",
       "      <td>7.0</td>\n",
       "      <td>11.0</td>\n",
       "      <td>88.0</td>\n",
       "      <td>4.0</td>\n",
       "      <td>0.0</td>\n",
       "      <td>1.0</td>\n",
       "    </tr>\n",
       "    <tr>\n",
       "      <th>3</th>\n",
       "      <td>sales</td>\n",
       "      <td>low</td>\n",
       "      <td>275.666667</td>\n",
       "      <td>5.0</td>\n",
       "      <td>72.0</td>\n",
       "      <td>87.0</td>\n",
       "      <td>5.0</td>\n",
       "      <td>0.0</td>\n",
       "      <td>1.0</td>\n",
       "    </tr>\n",
       "    <tr>\n",
       "      <th>4</th>\n",
       "      <td>sales</td>\n",
       "      <td>low</td>\n",
       "      <td>292.333333</td>\n",
       "      <td>2.0</td>\n",
       "      <td>37.0</td>\n",
       "      <td>52.0</td>\n",
       "      <td>3.0</td>\n",
       "      <td>0.0</td>\n",
       "      <td>1.0</td>\n",
       "    </tr>\n",
       "    <tr>\n",
       "      <th>...</th>\n",
       "      <td>...</td>\n",
       "      <td>...</td>\n",
       "      <td>...</td>\n",
       "      <td>...</td>\n",
       "      <td>...</td>\n",
       "      <td>...</td>\n",
       "      <td>...</td>\n",
       "      <td>...</td>\n",
       "      <td>...</td>\n",
       "    </tr>\n",
       "    <tr>\n",
       "      <th>14995</th>\n",
       "      <td>technical</td>\n",
       "      <td>low</td>\n",
       "      <td>253.333333</td>\n",
       "      <td>2.0</td>\n",
       "      <td>37.0</td>\n",
       "      <td>48.0</td>\n",
       "      <td>3.0</td>\n",
       "      <td>0.0</td>\n",
       "      <td>1.0</td>\n",
       "    </tr>\n",
       "    <tr>\n",
       "      <th>14996</th>\n",
       "      <td>technical</td>\n",
       "      <td>medium</td>\n",
       "      <td>288.000000</td>\n",
       "      <td>2.0</td>\n",
       "      <td>37.0</td>\n",
       "      <td>53.0</td>\n",
       "      <td>3.0</td>\n",
       "      <td>0.0</td>\n",
       "      <td>1.0</td>\n",
       "    </tr>\n",
       "    <tr>\n",
       "      <th>14997</th>\n",
       "      <td>support</td>\n",
       "      <td>low</td>\n",
       "      <td>272.000000</td>\n",
       "      <td>6.0</td>\n",
       "      <td>11.0</td>\n",
       "      <td>96.0</td>\n",
       "      <td>4.0</td>\n",
       "      <td>0.0</td>\n",
       "      <td>1.0</td>\n",
       "    </tr>\n",
       "    <tr>\n",
       "      <th>14998</th>\n",
       "      <td>support</td>\n",
       "      <td>low</td>\n",
       "      <td>276.666667</td>\n",
       "      <td>2.0</td>\n",
       "      <td>37.0</td>\n",
       "      <td>52.0</td>\n",
       "      <td>3.0</td>\n",
       "      <td>0.0</td>\n",
       "      <td>1.0</td>\n",
       "    </tr>\n",
       "    <tr>\n",
       "      <th>14999</th>\n",
       "      <td>NaN</td>\n",
       "      <td>NaN</td>\n",
       "      <td>261.000000</td>\n",
       "      <td>NaN</td>\n",
       "      <td>NaN</td>\n",
       "      <td>NaN</td>\n",
       "      <td>NaN</td>\n",
       "      <td>NaN</td>\n",
       "      <td>NaN</td>\n",
       "    </tr>\n",
       "  </tbody>\n",
       "</table>\n",
       "<p>15000 rows × 9 columns</p>\n",
       "</div>"
      ],
      "text/plain": [
       "      department  salary  mean_work_last_3_months  number_projects  \\\n",
       "0          sales     low               266.000000              2.0   \n",
       "1          sales  medium               252.000000              5.0   \n",
       "2          sales  medium               289.666667              7.0   \n",
       "3          sales     low               275.666667              5.0   \n",
       "4          sales     low               292.333333              2.0   \n",
       "...          ...     ...                      ...              ...   \n",
       "14995  technical     low               253.333333              2.0   \n",
       "14996  technical  medium               288.000000              2.0   \n",
       "14997    support     low               272.000000              6.0   \n",
       "14998    support     low               276.666667              2.0   \n",
       "14999        NaN     NaN               261.000000              NaN   \n",
       "\n",
       "       satisfaction_level  last_evaluation  time_in_company  work_accident  \\\n",
       "0                    38.0             53.0              3.0            0.0   \n",
       "1                    80.0             86.0              6.0            0.0   \n",
       "2                    11.0             88.0              4.0            0.0   \n",
       "3                    72.0             87.0              5.0            0.0   \n",
       "4                    37.0             52.0              3.0            0.0   \n",
       "...                   ...              ...              ...            ...   \n",
       "14995                37.0             48.0              3.0            0.0   \n",
       "14996                37.0             53.0              3.0            0.0   \n",
       "14997                11.0             96.0              4.0            0.0   \n",
       "14998                37.0             52.0              3.0            0.0   \n",
       "14999                 NaN              NaN              NaN            NaN   \n",
       "\n",
       "       left  \n",
       "0       1.0  \n",
       "1       1.0  \n",
       "2       1.0  \n",
       "3       1.0  \n",
       "4       1.0  \n",
       "...     ...  \n",
       "14995   1.0  \n",
       "14996   1.0  \n",
       "14997   1.0  \n",
       "14998   1.0  \n",
       "14999   NaN  \n",
       "\n",
       "[15000 rows x 9 columns]"
      ]
     },
     "execution_count": 8,
     "metadata": {},
     "output_type": "execute_result"
    }
   ],
   "source": [
    "df[df.notnull()]"
   ]
  },
  {
   "cell_type": "code",
   "execution_count": 9,
   "id": "42ea9765",
   "metadata": {},
   "outputs": [],
   "source": [
    "df = df[:14998]"
   ]
  },
  {
   "attachments": {},
   "cell_type": "markdown",
   "id": "6345aae2",
   "metadata": {},
   "source": [
    "#### Alterando os tipos de dados."
   ]
  },
  {
   "cell_type": "code",
   "execution_count": 10,
   "id": "3bed250e",
   "metadata": {},
   "outputs": [],
   "source": [
    "df[\"number_projects\"] = df[\"number_projects\"].astype(int)\n",
    "df[\"mean_work_last_3_months\"] = df[\"mean_work_last_3_months\"].astype(int)\n",
    "df[\"time_in_company\"] = df[\"time_in_company\"].astype(int)\n",
    "df[\"work_accident\"] = df[\"work_accident\"].astype(int)\n",
    "df[\"left\"] = df[\"left\"].astype(int)"
   ]
  },
  {
   "cell_type": "code",
   "execution_count": 11,
   "id": "d41aab97",
   "metadata": {},
   "outputs": [
    {
     "name": "stdout",
     "output_type": "stream",
     "text": [
      "<class 'pandas.core.frame.DataFrame'>\n",
      "RangeIndex: 14998 entries, 0 to 14997\n",
      "Data columns (total 9 columns):\n",
      " #   Column                   Non-Null Count  Dtype  \n",
      "---  ------                   --------------  -----  \n",
      " 0   department               14998 non-null  object \n",
      " 1   salary                   14998 non-null  object \n",
      " 2   mean_work_last_3_months  14998 non-null  int64  \n",
      " 3   number_projects          14998 non-null  int64  \n",
      " 4   satisfaction_level       14998 non-null  float64\n",
      " 5   last_evaluation          14998 non-null  float64\n",
      " 6   time_in_company          14998 non-null  int64  \n",
      " 7   work_accident            14998 non-null  int64  \n",
      " 8   left                     14998 non-null  int64  \n",
      "dtypes: float64(2), int64(5), object(2)\n",
      "memory usage: 1.0+ MB\n"
     ]
    }
   ],
   "source": [
    "df.info()"
   ]
  },
  {
   "cell_type": "code",
   "execution_count": 12,
   "id": "b3be9995",
   "metadata": {},
   "outputs": [
    {
     "data": {
      "text/html": [
       "<div>\n",
       "<style scoped>\n",
       "    .dataframe tbody tr th:only-of-type {\n",
       "        vertical-align: middle;\n",
       "    }\n",
       "\n",
       "    .dataframe tbody tr th {\n",
       "        vertical-align: top;\n",
       "    }\n",
       "\n",
       "    .dataframe thead th {\n",
       "        text-align: right;\n",
       "    }\n",
       "</style>\n",
       "<table border=\"1\" class=\"dataframe\">\n",
       "  <thead>\n",
       "    <tr style=\"text-align: right;\">\n",
       "      <th></th>\n",
       "      <th>department</th>\n",
       "      <th>salary</th>\n",
       "      <th>mean_work_last_3_months</th>\n",
       "      <th>number_projects</th>\n",
       "      <th>satisfaction_level</th>\n",
       "      <th>last_evaluation</th>\n",
       "      <th>time_in_company</th>\n",
       "      <th>work_accident</th>\n",
       "      <th>left</th>\n",
       "    </tr>\n",
       "  </thead>\n",
       "  <tbody>\n",
       "    <tr>\n",
       "      <th>0</th>\n",
       "      <td>sales</td>\n",
       "      <td>low</td>\n",
       "      <td>266</td>\n",
       "      <td>2</td>\n",
       "      <td>38.0</td>\n",
       "      <td>53.0</td>\n",
       "      <td>3</td>\n",
       "      <td>0</td>\n",
       "      <td>1</td>\n",
       "    </tr>\n",
       "    <tr>\n",
       "      <th>1</th>\n",
       "      <td>sales</td>\n",
       "      <td>medium</td>\n",
       "      <td>252</td>\n",
       "      <td>5</td>\n",
       "      <td>80.0</td>\n",
       "      <td>86.0</td>\n",
       "      <td>6</td>\n",
       "      <td>0</td>\n",
       "      <td>1</td>\n",
       "    </tr>\n",
       "    <tr>\n",
       "      <th>2</th>\n",
       "      <td>sales</td>\n",
       "      <td>medium</td>\n",
       "      <td>289</td>\n",
       "      <td>7</td>\n",
       "      <td>11.0</td>\n",
       "      <td>88.0</td>\n",
       "      <td>4</td>\n",
       "      <td>0</td>\n",
       "      <td>1</td>\n",
       "    </tr>\n",
       "    <tr>\n",
       "      <th>3</th>\n",
       "      <td>sales</td>\n",
       "      <td>low</td>\n",
       "      <td>275</td>\n",
       "      <td>5</td>\n",
       "      <td>72.0</td>\n",
       "      <td>87.0</td>\n",
       "      <td>5</td>\n",
       "      <td>0</td>\n",
       "      <td>1</td>\n",
       "    </tr>\n",
       "    <tr>\n",
       "      <th>4</th>\n",
       "      <td>sales</td>\n",
       "      <td>low</td>\n",
       "      <td>292</td>\n",
       "      <td>2</td>\n",
       "      <td>37.0</td>\n",
       "      <td>52.0</td>\n",
       "      <td>3</td>\n",
       "      <td>0</td>\n",
       "      <td>1</td>\n",
       "    </tr>\n",
       "  </tbody>\n",
       "</table>\n",
       "</div>"
      ],
      "text/plain": [
       "  department  salary  mean_work_last_3_months  number_projects  \\\n",
       "0      sales     low                      266                2   \n",
       "1      sales  medium                      252                5   \n",
       "2      sales  medium                      289                7   \n",
       "3      sales     low                      275                5   \n",
       "4      sales     low                      292                2   \n",
       "\n",
       "   satisfaction_level  last_evaluation  time_in_company  work_accident  left  \n",
       "0                38.0             53.0                3              0     1  \n",
       "1                80.0             86.0                6              0     1  \n",
       "2                11.0             88.0                4              0     1  \n",
       "3                72.0             87.0                5              0     1  \n",
       "4                37.0             52.0                3              0     1  "
      ]
     },
     "execution_count": 12,
     "metadata": {},
     "output_type": "execute_result"
    }
   ],
   "source": [
    "df.head()"
   ]
  },
  {
   "cell_type": "code",
   "execution_count": 13,
   "id": "4c53b942",
   "metadata": {},
   "outputs": [],
   "source": [
    "df = df[:14998]"
   ]
  },
  {
   "attachments": {},
   "cell_type": "markdown",
   "id": "0732373c",
   "metadata": {},
   "source": [
    "#### Renomeando atributos"
   ]
  },
  {
   "cell_type": "code",
   "execution_count": 14,
   "id": "e51e02de",
   "metadata": {},
   "outputs": [],
   "source": [
    "df = df.rename(columns={'satisfaction_level': 'satisfaction', \n",
    "                        'last_evaluation': 'evaluation',\n",
    "                        'number_projects': 'projectCount',\n",
    "                        'mean_work_last_3_months': 'averageMonthlyHours',\n",
    "                        'time_in_company': 'yearsAtCompany',\n",
    "                        'work_accident': 'workAccident',\n",
    "                        'left' : 'turnover'\n",
    "                        })"
   ]
  },
  {
   "cell_type": "code",
   "execution_count": 15,
   "id": "8df7f8fd",
   "metadata": {
    "scrolled": true
   },
   "outputs": [
    {
     "data": {
      "text/html": [
       "<div>\n",
       "<style scoped>\n",
       "    .dataframe tbody tr th:only-of-type {\n",
       "        vertical-align: middle;\n",
       "    }\n",
       "\n",
       "    .dataframe tbody tr th {\n",
       "        vertical-align: top;\n",
       "    }\n",
       "\n",
       "    .dataframe thead th {\n",
       "        text-align: right;\n",
       "    }\n",
       "</style>\n",
       "<table border=\"1\" class=\"dataframe\">\n",
       "  <thead>\n",
       "    <tr style=\"text-align: right;\">\n",
       "      <th></th>\n",
       "      <th>department</th>\n",
       "      <th>salary</th>\n",
       "      <th>averageMonthlyHours</th>\n",
       "      <th>projectCount</th>\n",
       "      <th>satisfaction</th>\n",
       "      <th>evaluation</th>\n",
       "      <th>yearsAtCompany</th>\n",
       "      <th>workAccident</th>\n",
       "      <th>turnover</th>\n",
       "    </tr>\n",
       "  </thead>\n",
       "  <tbody>\n",
       "    <tr>\n",
       "      <th>0</th>\n",
       "      <td>sales</td>\n",
       "      <td>low</td>\n",
       "      <td>266</td>\n",
       "      <td>2</td>\n",
       "      <td>38.0</td>\n",
       "      <td>53.0</td>\n",
       "      <td>3</td>\n",
       "      <td>0</td>\n",
       "      <td>1</td>\n",
       "    </tr>\n",
       "    <tr>\n",
       "      <th>1</th>\n",
       "      <td>sales</td>\n",
       "      <td>medium</td>\n",
       "      <td>252</td>\n",
       "      <td>5</td>\n",
       "      <td>80.0</td>\n",
       "      <td>86.0</td>\n",
       "      <td>6</td>\n",
       "      <td>0</td>\n",
       "      <td>1</td>\n",
       "    </tr>\n",
       "    <tr>\n",
       "      <th>2</th>\n",
       "      <td>sales</td>\n",
       "      <td>medium</td>\n",
       "      <td>289</td>\n",
       "      <td>7</td>\n",
       "      <td>11.0</td>\n",
       "      <td>88.0</td>\n",
       "      <td>4</td>\n",
       "      <td>0</td>\n",
       "      <td>1</td>\n",
       "    </tr>\n",
       "    <tr>\n",
       "      <th>3</th>\n",
       "      <td>sales</td>\n",
       "      <td>low</td>\n",
       "      <td>275</td>\n",
       "      <td>5</td>\n",
       "      <td>72.0</td>\n",
       "      <td>87.0</td>\n",
       "      <td>5</td>\n",
       "      <td>0</td>\n",
       "      <td>1</td>\n",
       "    </tr>\n",
       "    <tr>\n",
       "      <th>4</th>\n",
       "      <td>sales</td>\n",
       "      <td>low</td>\n",
       "      <td>292</td>\n",
       "      <td>2</td>\n",
       "      <td>37.0</td>\n",
       "      <td>52.0</td>\n",
       "      <td>3</td>\n",
       "      <td>0</td>\n",
       "      <td>1</td>\n",
       "    </tr>\n",
       "  </tbody>\n",
       "</table>\n",
       "</div>"
      ],
      "text/plain": [
       "  department  salary  averageMonthlyHours  projectCount  satisfaction  \\\n",
       "0      sales     low                  266             2          38.0   \n",
       "1      sales  medium                  252             5          80.0   \n",
       "2      sales  medium                  289             7          11.0   \n",
       "3      sales     low                  275             5          72.0   \n",
       "4      sales     low                  292             2          37.0   \n",
       "\n",
       "   evaluation  yearsAtCompany  workAccident  turnover  \n",
       "0        53.0               3             0         1  \n",
       "1        86.0               6             0         1  \n",
       "2        88.0               4             0         1  \n",
       "3        87.0               5             0         1  \n",
       "4        52.0               3             0         1  "
      ]
     },
     "execution_count": 15,
     "metadata": {},
     "output_type": "execute_result"
    }
   ],
   "source": [
    "df.head()"
   ]
  },
  {
   "attachments": {},
   "cell_type": "markdown",
   "id": "fcc89e8b",
   "metadata": {},
   "source": [
    "###  Importancia de Features"
   ]
  },
  {
   "attachments": {},
   "cell_type": "markdown",
   "id": "d37217ce",
   "metadata": {},
   "source": [
    "#### Converte os atributos categoricos valores numéricos."
   ]
  },
  {
   "cell_type": "code",
   "execution_count": 16,
   "id": "82cf4bb1",
   "metadata": {},
   "outputs": [],
   "source": [
    "df[\"department\"] = df[\"department\"].astype('category').cat.codes\n",
    "df[\"salary\"] = df[\"salary\"].astype('category').cat.codes"
   ]
  },
  {
   "cell_type": "code",
   "execution_count": 17,
   "id": "8a44672c",
   "metadata": {},
   "outputs": [
    {
     "data": {
      "text/html": [
       "<div>\n",
       "<style scoped>\n",
       "    .dataframe tbody tr th:only-of-type {\n",
       "        vertical-align: middle;\n",
       "    }\n",
       "\n",
       "    .dataframe tbody tr th {\n",
       "        vertical-align: top;\n",
       "    }\n",
       "\n",
       "    .dataframe thead th {\n",
       "        text-align: right;\n",
       "    }\n",
       "</style>\n",
       "<table border=\"1\" class=\"dataframe\">\n",
       "  <thead>\n",
       "    <tr style=\"text-align: right;\">\n",
       "      <th></th>\n",
       "      <th>department</th>\n",
       "      <th>salary</th>\n",
       "      <th>averageMonthlyHours</th>\n",
       "      <th>projectCount</th>\n",
       "      <th>satisfaction</th>\n",
       "      <th>evaluation</th>\n",
       "      <th>yearsAtCompany</th>\n",
       "      <th>workAccident</th>\n",
       "      <th>turnover</th>\n",
       "    </tr>\n",
       "  </thead>\n",
       "  <tbody>\n",
       "    <tr>\n",
       "      <th>0</th>\n",
       "      <td>7</td>\n",
       "      <td>1</td>\n",
       "      <td>266</td>\n",
       "      <td>2</td>\n",
       "      <td>38.0</td>\n",
       "      <td>53.0</td>\n",
       "      <td>3</td>\n",
       "      <td>0</td>\n",
       "      <td>1</td>\n",
       "    </tr>\n",
       "    <tr>\n",
       "      <th>1</th>\n",
       "      <td>7</td>\n",
       "      <td>2</td>\n",
       "      <td>252</td>\n",
       "      <td>5</td>\n",
       "      <td>80.0</td>\n",
       "      <td>86.0</td>\n",
       "      <td>6</td>\n",
       "      <td>0</td>\n",
       "      <td>1</td>\n",
       "    </tr>\n",
       "    <tr>\n",
       "      <th>2</th>\n",
       "      <td>7</td>\n",
       "      <td>2</td>\n",
       "      <td>289</td>\n",
       "      <td>7</td>\n",
       "      <td>11.0</td>\n",
       "      <td>88.0</td>\n",
       "      <td>4</td>\n",
       "      <td>0</td>\n",
       "      <td>1</td>\n",
       "    </tr>\n",
       "    <tr>\n",
       "      <th>3</th>\n",
       "      <td>7</td>\n",
       "      <td>1</td>\n",
       "      <td>275</td>\n",
       "      <td>5</td>\n",
       "      <td>72.0</td>\n",
       "      <td>87.0</td>\n",
       "      <td>5</td>\n",
       "      <td>0</td>\n",
       "      <td>1</td>\n",
       "    </tr>\n",
       "    <tr>\n",
       "      <th>4</th>\n",
       "      <td>7</td>\n",
       "      <td>1</td>\n",
       "      <td>292</td>\n",
       "      <td>2</td>\n",
       "      <td>37.0</td>\n",
       "      <td>52.0</td>\n",
       "      <td>3</td>\n",
       "      <td>0</td>\n",
       "      <td>1</td>\n",
       "    </tr>\n",
       "  </tbody>\n",
       "</table>\n",
       "</div>"
      ],
      "text/plain": [
       "   department  salary  averageMonthlyHours  projectCount  satisfaction  \\\n",
       "0           7       1                  266             2          38.0   \n",
       "1           7       2                  252             5          80.0   \n",
       "2           7       2                  289             7          11.0   \n",
       "3           7       1                  275             5          72.0   \n",
       "4           7       1                  292             2          37.0   \n",
       "\n",
       "   evaluation  yearsAtCompany  workAccident  turnover  \n",
       "0        53.0               3             0         1  \n",
       "1        86.0               6             0         1  \n",
       "2        88.0               4             0         1  \n",
       "3        87.0               5             0         1  \n",
       "4        52.0               3             0         1  "
      ]
     },
     "execution_count": 17,
     "metadata": {},
     "output_type": "execute_result"
    }
   ],
   "source": [
    "df.head()"
   ]
  },
  {
   "attachments": {},
   "cell_type": "markdown",
   "id": "702c4176",
   "metadata": {},
   "source": [
    "#### Separando os conjuntos de dados."
   ]
  },
  {
   "cell_type": "code",
   "execution_count": 18,
   "id": "d1bfeadb",
   "metadata": {},
   "outputs": [],
   "source": [
    "target_name = 'turnover'\n",
    "X = df.drop('turnover', axis=1)\n",
    "y = df[target_name]"
   ]
  },
  {
   "attachments": {},
   "cell_type": "markdown",
   "id": "884842ca",
   "metadata": {},
   "source": [
    "#### Transformando os dados."
   ]
  },
  {
   "cell_type": "code",
   "execution_count": 19,
   "id": "9c78bc04",
   "metadata": {},
   "outputs": [],
   "source": [
    "from sklearn.preprocessing import MinMaxScaler"
   ]
  },
  {
   "cell_type": "code",
   "execution_count": 20,
   "id": "7a8ffe3c",
   "metadata": {},
   "outputs": [],
   "source": [
    "scaler = MinMaxScaler()"
   ]
  },
  {
   "cell_type": "code",
   "execution_count": 21,
   "id": "67d7112f",
   "metadata": {},
   "outputs": [],
   "source": [
    "X = scaler.fit_transform(X)"
   ]
  },
  {
   "cell_type": "code",
   "execution_count": 22,
   "id": "360fa4fb",
   "metadata": {},
   "outputs": [
    {
     "data": {
      "text/plain": [
       "array([[0.77777778, 0.5       , 0.38202247, ..., 0.265625  , 0.125     ,\n",
       "        0.        ],\n",
       "       [0.77777778, 1.        , 0.2247191 , ..., 0.78125   , 0.5       ,\n",
       "        0.        ],\n",
       "       [0.77777778, 1.        , 0.64044944, ..., 0.8125    , 0.25      ,\n",
       "        0.        ],\n",
       "       ...,\n",
       "       [1.        , 0.5       , 0.23595506, ..., 0.1875    , 0.125     ,\n",
       "        0.        ],\n",
       "       [1.        , 1.        , 0.62921348, ..., 0.265625  , 0.125     ,\n",
       "        0.        ],\n",
       "       [0.88888889, 0.5       , 0.4494382 , ..., 0.9375    , 0.25      ,\n",
       "        0.        ]])"
      ]
     },
     "execution_count": 22,
     "metadata": {},
     "output_type": "execute_result"
    }
   ],
   "source": [
    "X"
   ]
  },
  {
   "attachments": {},
   "cell_type": "markdown",
   "id": "3f13d4d6",
   "metadata": {},
   "source": [
    "#### Separando os conjuntos."
   ]
  },
  {
   "cell_type": "code",
   "execution_count": 23,
   "id": "965c31d7",
   "metadata": {},
   "outputs": [],
   "source": [
    "from sklearn.model_selection import train_test_split"
   ]
  },
  {
   "cell_type": "code",
   "execution_count": 24,
   "id": "ab76666d",
   "metadata": {},
   "outputs": [],
   "source": [
    "X_train, X_test, y_train, y_test = train_test_split(\n",
    "        X\n",
    "       ,y\n",
    "       ,test_size = 0.2\n",
    "       ,random_state = 123\n",
    "       ,stratify = y\n",
    ")"
   ]
  },
  {
   "attachments": {},
   "cell_type": "markdown",
   "id": "648148e9",
   "metadata": {},
   "source": [
    "#### Treinando o algoritmo de arvore de decisão."
   ]
  },
  {
   "cell_type": "code",
   "execution_count": 25,
   "id": "f99c9c51",
   "metadata": {},
   "outputs": [],
   "source": [
    "from sklearn.tree import DecisionTreeClassifier"
   ]
  },
  {
   "cell_type": "code",
   "execution_count": 26,
   "id": "b5b14190",
   "metadata": {},
   "outputs": [],
   "source": [
    "dtree = DecisionTreeClassifier()\n",
    "dtree = dtree.fit(X_train,y_train)"
   ]
  },
  {
   "cell_type": "code",
   "execution_count": 27,
   "id": "ccf50fa2",
   "metadata": {},
   "outputs": [],
   "source": [
    "importances = dtree.feature_importances_\n",
    "feat_names = df.drop(['turnover'],axis=1).columns"
   ]
  },
  {
   "cell_type": "code",
   "execution_count": 28,
   "id": "5479849c",
   "metadata": {},
   "outputs": [
    {
     "data": {
      "image/png": "[encoded data removed]",
      "text/plain": [
       "<Figure size 1200x400 with 1 Axes>"
      ]
     },
     "metadata": {},
     "output_type": "display_data"
    }
   ],
   "source": [
    "indices = np.argsort(importances)[::-1]\n",
    "plt.figure(figsize=(12,4))\n",
    "plt.title(\"Feature importances by DecisionTreeClassifier\")\n",
    "plt.bar(range(len(indices)), importances[indices], color='lightblue',  align=\"center\")\n",
    "plt.xticks(range(len(indices)), feat_names[indices], rotation='vertical',fontsize=14)\n",
    "plt.xlim([-1, len(indices)])\n",
    "plt.show()"
   ]
  },
  {
   "attachments": {},
   "cell_type": "markdown",
   "id": "7a2f50ad",
   "metadata": {},
   "source": [
    "#### Filtrando apenas os atributos relevantes."
   ]
  },
  {
   "cell_type": "code",
   "execution_count": 29,
   "id": "7363c56e",
   "metadata": {},
   "outputs": [],
   "source": [
    "X = df[[\"satisfaction\",\"evaluation\",\"averageMonthlyHours\",\"yearsAtCompany\"]]"
   ]
  },
  {
   "attachments": {},
   "cell_type": "markdown",
   "id": "c608f61f",
   "metadata": {},
   "source": [
    "#### Separando os conjuntos de dados."
   ]
  },
  {
   "cell_type": "code",
   "execution_count": 30,
   "id": "b7bfe235",
   "metadata": {},
   "outputs": [],
   "source": [
    "scaler = MinMaxScaler()"
   ]
  },
  {
   "cell_type": "code",
   "execution_count": 31,
   "id": "9ace1d75",
   "metadata": {},
   "outputs": [],
   "source": [
    "X = scaler.fit_transform(X)"
   ]
  },
  {
   "cell_type": "code",
   "execution_count": 32,
   "id": "6df47cb3",
   "metadata": {},
   "outputs": [],
   "source": [
    "X_train, X_test, y_train, y_test = train_test_split(\n",
    "        X\n",
    "       ,y\n",
    "       ,test_size = 0.2\n",
    "       ,random_state = 123\n",
    "       ,stratify = y\n",
    ")"
   ]
  },
  {
   "cell_type": "code",
   "execution_count": 33,
   "id": "ee19664d",
   "metadata": {},
   "outputs": [
    {
     "data": {
      "text/plain": [
       "array([[0.06593407, 0.046875  , 0.53932584, 0.25      ],\n",
       "       [0.        , 0.703125  , 0.41573034, 0.25      ],\n",
       "       [0.37362637, 0.234375  , 0.4494382 , 0.125     ],\n",
       "       ...,\n",
       "       [0.32967033, 0.3125    , 0.59550562, 0.125     ],\n",
       "       [0.48351648, 0.53125   , 0.42696629, 0.375     ],\n",
       "       [0.32967033, 0.609375  , 0.53932584, 0.375     ]])"
      ]
     },
     "execution_count": 33,
     "metadata": {},
     "output_type": "execute_result"
    }
   ],
   "source": [
    "X_train"
   ]
  },
  {
   "attachments": {},
   "cell_type": "markdown",
   "id": "233aef35",
   "metadata": {},
   "source": [
    "#### Função do modelo de base."
   ]
  },
  {
   "cell_type": "code",
   "execution_count": 34,
   "id": "862ce2ee",
   "metadata": {},
   "outputs": [],
   "source": [
    "def base_rate_model(X) :\n",
    "    y = np.zeros(X.shape[0])\n",
    "    return y"
   ]
  },
  {
   "attachments": {},
   "cell_type": "markdown",
   "id": "9409f9ad",
   "metadata": {},
   "source": [
    "#### Importando métodos de métrica de avaliação."
   ]
  },
  {
   "cell_type": "code",
   "execution_count": 35,
   "id": "4c3e5be0",
   "metadata": {},
   "outputs": [],
   "source": [
    "from sklearn.metrics import roc_auc_score\n",
    "from sklearn.metrics import accuracy_score\n",
    "from sklearn.metrics import classification_report"
   ]
  },
  {
   "cell_type": "code",
   "execution_count": 36,
   "id": "f5a951ed",
   "metadata": {},
   "outputs": [],
   "source": [
    "def accuracy_result(y_test,y_predict):\n",
    "    acc = accuracy_score(y_test, y_predict)\n",
    "    print (\"Accuracy = %2.2f\" % acc)"
   ]
  },
  {
   "cell_type": "code",
   "execution_count": 37,
   "id": "c26617eb",
   "metadata": {},
   "outputs": [],
   "source": [
    "def roc_classification_report_results(model,y_test,y_predict):\n",
    "    roc_ = roc_auc_score(y_test, y_predict)\n",
    "    classfication_report = classification_report(y_test, y_predict)\n",
    "    \n",
    "    print (\"\\n{} AUC = {}\\n\".format(model, roc_))\n",
    "    print(classfication_report)"
   ]
  },
  {
   "attachments": {},
   "cell_type": "markdown",
   "id": "08b4adeb",
   "metadata": {},
   "source": [
    "#### Análise do modelo de baseline"
   ]
  },
  {
   "cell_type": "code",
   "execution_count": 38,
   "id": "0aebf1fb",
   "metadata": {},
   "outputs": [],
   "source": [
    "y_predict = base_rate_model(X_test)"
   ]
  },
  {
   "cell_type": "code",
   "execution_count": 39,
   "id": "02804d58",
   "metadata": {},
   "outputs": [
    {
     "name": "stdout",
     "output_type": "stream",
     "text": [
      "Accuracy = 0.76\n"
     ]
    }
   ],
   "source": [
    "accuracy_result(y_test, y_predict)"
   ]
  },
  {
   "cell_type": "code",
   "execution_count": 40,
   "id": "905cac5f",
   "metadata": {},
   "outputs": [
    {
     "name": "stdout",
     "output_type": "stream",
     "text": [
      "\n",
      "Base Model AUC = 0.5\n",
      "\n",
      "              precision    recall  f1-score   support\n",
      "\n",
      "           0       0.76      1.00      0.86      2286\n",
      "           1       0.00      0.00      0.00       714\n",
      "\n",
      "    accuracy                           0.76      3000\n",
      "   macro avg       0.38      0.50      0.43      3000\n",
      "weighted avg       0.58      0.76      0.66      3000\n",
      "\n"
     ]
    },
    {
     "name": "stderr",
     "output_type": "stream",
     "text": [
      "/home/rafael/anaconda3/lib/python3.9/site-packages/sklearn/metrics/_classification.py:1318: UndefinedMetricWarning: Precision and F-score are ill-defined and being set to 0.0 in labels with no predicted samples. Use `zero_division` parameter to control this behavior.\n",
      "  _warn_prf(average, modifier, msg_start, len(result))\n",
      "/home/rafael/anaconda3/lib/python3.9/site-packages/sklearn/metrics/_classification.py:1318: UndefinedMetricWarning: Precision and F-score are ill-defined and being set to 0.0 in labels with no predicted samples. Use `zero_division` parameter to control this behavior.\n",
      "  _warn_prf(average, modifier, msg_start, len(result))\n",
      "/home/rafael/anaconda3/lib/python3.9/site-packages/sklearn/metrics/_classification.py:1318: UndefinedMetricWarning: Precision and F-score are ill-defined and being set to 0.0 in labels with no predicted samples. Use `zero_division` parameter to control this behavior.\n",
      "  _warn_prf(average, modifier, msg_start, len(result))\n"
     ]
    }
   ],
   "source": [
    "roc_classification_report_results(\"Base Model\", y_test, y_predict)"
   ]
  },
  {
   "attachments": {},
   "cell_type": "markdown",
   "id": "04850a75",
   "metadata": {},
   "source": [
    "### Modelo de Regressão Logística."
   ]
  },
  {
   "attachments": {},
   "cell_type": "markdown",
   "id": "9a11b173",
   "metadata": {},
   "source": [
    "#### Instânciando o algoritmo."
   ]
  },
  {
   "cell_type": "code",
   "execution_count": 41,
   "id": "f9f2bc15",
   "metadata": {},
   "outputs": [],
   "source": [
    "from sklearn.linear_model import LogisticRegression\n",
    "logis = LogisticRegression()"
   ]
  },
  {
   "attachments": {},
   "cell_type": "markdown",
   "id": "a6369bc1",
   "metadata": {},
   "source": [
    "#### Realizando o treinamento."
   ]
  },
  {
   "cell_type": "code",
   "execution_count": 42,
   "id": "3f761af6",
   "metadata": {
    "scrolled": true
   },
   "outputs": [
    {
     "data": {
      "text/plain": [
       "LogisticRegression()"
      ]
     },
     "execution_count": 42,
     "metadata": {},
     "output_type": "execute_result"
    }
   ],
   "source": [
    "logis.fit(X_train, y_train)"
   ]
  },
  {
   "attachments": {},
   "cell_type": "markdown",
   "id": "03651c5a",
   "metadata": {},
   "source": [
    "#### Calculando as predições."
   ]
  },
  {
   "cell_type": "code",
   "execution_count": 43,
   "id": "cd138e3c",
   "metadata": {},
   "outputs": [],
   "source": [
    "y_predict = logis.predict(X_test)"
   ]
  },
  {
   "attachments": {},
   "cell_type": "markdown",
   "id": "ad0e75d9",
   "metadata": {},
   "source": [
    "#### Avaliando o resultado."
   ]
  },
  {
   "cell_type": "code",
   "execution_count": 44,
   "id": "da03dbe1",
   "metadata": {},
   "outputs": [
    {
     "name": "stdout",
     "output_type": "stream",
     "text": [
      "Accuracy = 0.76\n"
     ]
    }
   ],
   "source": [
    "accuracy_result(y_test, y_predict)"
   ]
  },
  {
   "cell_type": "code",
   "execution_count": 45,
   "id": "4800a256",
   "metadata": {},
   "outputs": [
    {
     "name": "stdout",
     "output_type": "stream",
     "text": [
      "\n",
      "Logistic Regression AUC = 0.5121271605755163\n",
      "\n",
      "              precision    recall  f1-score   support\n",
      "\n",
      "           0       0.77      0.99      0.86      2286\n",
      "           1       0.47      0.04      0.07       714\n",
      "\n",
      "    accuracy                           0.76      3000\n",
      "   macro avg       0.62      0.51      0.47      3000\n",
      "weighted avg       0.69      0.76      0.67      3000\n",
      "\n"
     ]
    }
   ],
   "source": [
    "roc_classification_report_results(\"Logistic Regression\", y_test, y_predict)"
   ]
  },
  {
   "attachments": {},
   "cell_type": "markdown",
   "id": "00aaac7c",
   "metadata": {},
   "source": [
    "### Modelo de Arvore de decisão."
   ]
  },
  {
   "attachments": {},
   "cell_type": "markdown",
   "id": "33524aac",
   "metadata": {},
   "source": [
    "#### Instânciando o algoritmo."
   ]
  },
  {
   "cell_type": "code",
   "execution_count": 46,
   "id": "95c50872",
   "metadata": {},
   "outputs": [],
   "source": [
    "from sklearn.tree import DecisionTreeClassifier\n",
    "dtree = DecisionTreeClassifier()"
   ]
  },
  {
   "attachments": {},
   "cell_type": "markdown",
   "id": "3d7ad1c8",
   "metadata": {},
   "source": [
    "#### Realizando o treinamento."
   ]
  },
  {
   "cell_type": "code",
   "execution_count": 47,
   "id": "edcca31f",
   "metadata": {
    "scrolled": true
   },
   "outputs": [],
   "source": [
    "dtree = dtree.fit(X_train,y_train)"
   ]
  },
  {
   "attachments": {},
   "cell_type": "markdown",
   "id": "d3ac4673",
   "metadata": {},
   "source": [
    "#### Calculando as predições."
   ]
  },
  {
   "cell_type": "code",
   "execution_count": 48,
   "id": "9197176d",
   "metadata": {},
   "outputs": [],
   "source": [
    "y_predict = dtree.predict(X_test)"
   ]
  },
  {
   "attachments": {},
   "cell_type": "markdown",
   "id": "56a32296",
   "metadata": {},
   "source": [
    "#### Avaliando o resultado."
   ]
  },
  {
   "cell_type": "code",
   "execution_count": 49,
   "id": "bf8ad9d3",
   "metadata": {},
   "outputs": [
    {
     "name": "stdout",
     "output_type": "stream",
     "text": [
      "Accuracy = 0.76\n"
     ]
    }
   ],
   "source": [
    "accuracy_result(y_test, y_predict)"
   ]
  },
  {
   "cell_type": "code",
   "execution_count": 50,
   "id": "93b86d22",
   "metadata": {},
   "outputs": [
    {
     "name": "stdout",
     "output_type": "stream",
     "text": [
      "\n",
      "Decision Tree AUC = 0.668589220465089\n",
      "\n",
      "              precision    recall  f1-score   support\n",
      "\n",
      "           0       0.84      0.85      0.84      2286\n",
      "           1       0.50      0.49      0.50       714\n",
      "\n",
      "    accuracy                           0.76      3000\n",
      "   macro avg       0.67      0.67      0.67      3000\n",
      "weighted avg       0.76      0.76      0.76      3000\n",
      "\n"
     ]
    }
   ],
   "source": [
    "roc_classification_report_results(\"Decision Tree\", y_test, y_predict)"
   ]
  },
  {
   "attachments": {},
   "cell_type": "markdown",
   "id": "cd27a5ab",
   "metadata": {},
   "source": [
    "### Modelo de Arvore Aleatória (Random Forest)"
   ]
  },
  {
   "attachments": {},
   "cell_type": "markdown",
   "id": "9b42b9d5",
   "metadata": {},
   "source": [
    "#### Instânciando o algoritmo."
   ]
  },
  {
   "cell_type": "code",
   "execution_count": 51,
   "id": "6dab769b",
   "metadata": {},
   "outputs": [],
   "source": [
    "from sklearn.ensemble import RandomForestClassifier"
   ]
  },
  {
   "cell_type": "code",
   "execution_count": 52,
   "id": "3e0c74f5",
   "metadata": {},
   "outputs": [],
   "source": [
    "rf = RandomForestClassifier()"
   ]
  },
  {
   "attachments": {},
   "cell_type": "markdown",
   "id": "193d0577",
   "metadata": {},
   "source": [
    "#### Realizando o treinamento."
   ]
  },
  {
   "cell_type": "code",
   "execution_count": 53,
   "id": "8469a48a",
   "metadata": {
    "scrolled": true
   },
   "outputs": [],
   "source": [
    "rf = rf.fit(X_train,y_train)"
   ]
  },
  {
   "attachments": {},
   "cell_type": "markdown",
   "id": "3a77f475",
   "metadata": {},
   "source": [
    "#### Calculando as predições."
   ]
  },
  {
   "cell_type": "code",
   "execution_count": 54,
   "id": "58e16f6c",
   "metadata": {},
   "outputs": [],
   "source": [
    "y_predict = rf.predict(X_test)"
   ]
  },
  {
   "attachments": {},
   "cell_type": "markdown",
   "id": "5b56117a",
   "metadata": {},
   "source": [
    "#### Avaliando o resultado."
   ]
  },
  {
   "cell_type": "code",
   "execution_count": 55,
   "id": "ee9583e8",
   "metadata": {},
   "outputs": [
    {
     "name": "stdout",
     "output_type": "stream",
     "text": [
      "Accuracy = 0.84\n"
     ]
    }
   ],
   "source": [
    "accuracy_result(y_test, y_predict)"
   ]
  },
  {
   "cell_type": "code",
   "execution_count": 56,
   "id": "8853f34b",
   "metadata": {},
   "outputs": [
    {
     "name": "stdout",
     "output_type": "stream",
     "text": [
      "\n",
      "Random Forest AUC = 0.7405214054125587\n",
      "\n",
      "              precision    recall  f1-score   support\n",
      "\n",
      "           0       0.87      0.93      0.90      2286\n",
      "           1       0.71      0.55      0.62       714\n",
      "\n",
      "    accuracy                           0.84      3000\n",
      "   macro avg       0.79      0.74      0.76      3000\n",
      "weighted avg       0.83      0.84      0.83      3000\n",
      "\n"
     ]
    }
   ],
   "source": [
    "roc_classification_report_results(\"Random Forest\", y_test, y_predict)"
   ]
  },
  {
   "attachments": {},
   "cell_type": "markdown",
   "id": "69e52b1b",
   "metadata": {},
   "source": [
    "### Pycaret"
   ]
  },
  {
   "cell_type": "code",
   "execution_count": 57,
   "id": "85d2e73d",
   "metadata": {
    "collapsed": true,
    "jupyter": {
     "outputs_hidden": true
    },
    "tags": []
   },
   "outputs": [
    {
     "name": "stdout",
     "output_type": "stream",
     "text": [
      "Collecting pycaret\n",
      "  Downloading pycaret-3.0.2-py3-none-any.whl (483 kB)\n",
      "\u001b[2K     \u001b[90m━━━━━━━━━━━━━━━━━━━━━━━━━━━━━━━━━━━━━━━\u001b[0m \u001b[32m483.6/483.6 kB\u001b[0m \u001b[31m9.5 MB/s\u001b[0m eta \u001b[36m0:00:00\u001b[0ma \u001b[36m0:00:01\u001b[0m\n",
      "\u001b[?25hCollecting kaleido>=0.2.1\n",
      "  Downloading kaleido-0.2.1-py2.py3-none-manylinux1_x86_64.whl (79.9 MB)\n",
      "\u001b[2K     \u001b[90m━━━━━━━━━━━━━━━━━━━━━━━━━━━━━━━━━━━━━━━━\u001b[0m \u001b[32m79.9/79.9 MB\u001b[0m \u001b[31m7.2 MB/s\u001b[0m eta \u001b[36m0:00:00\u001b[0m:00:01\u001b[0m00:01\u001b[0m\n",
      "\u001b[?25hRequirement already satisfied: scipy<2.0.0 in /home/rafael/anaconda3/lib/python3.9/site-packages (from pycaret) (1.9.1)\n",
      "Requirement already satisfied: ipython>=5.5.0 in /home/rafael/anaconda3/lib/python3.9/site-packages (from pycaret) (7.31.1)\n",
      "Collecting deprecation>=2.1.0\n",
      "  Downloading deprecation-2.1.0-py2.py3-none-any.whl (11 kB)\n",
      "Requirement already satisfied: psutil>=5.9.0 in /home/rafael/anaconda3/lib/python3.9/site-packages (from pycaret) (5.9.0)\n",
      "Requirement already satisfied: statsmodels>=0.12.1 in /home/rafael/anaconda3/lib/python3.9/site-packages (from pycaret) (0.13.2)\n",
      "Collecting category-encoders>=2.4.0\n",
      "  Downloading category_encoders-2.6.1-py2.py3-none-any.whl (81 kB)\n",
      "\u001b[2K     \u001b[90m━━━━━━━━━━━━━━━━━━━━━━━━━━━━━━━━━━━━━━━━\u001b[0m \u001b[32m81.9/81.9 kB\u001b[0m \u001b[31m9.8 MB/s\u001b[0m eta \u001b[36m0:00:00\u001b[0m\n",
      "\u001b[?25hCollecting plotly-resampler>=0.8.3.1\n",
      "  Downloading plotly_resampler-0.8.3.2.tar.gz (46 kB)\n",
      "\u001b[2K     \u001b[90m━━━━━━━━━━━━━━━━━━━━━━━━━━━━━━━━━━━━━━━━\u001b[0m \u001b[32m46.4/46.4 kB\u001b[0m \u001b[31m11.5 MB/s\u001b[0m eta \u001b[36m0:00:00\u001b[0m\n",
      "\u001b[?25h  Installing build dependencies ... \u001b[?25ldone\n",
      "\u001b[?25h  Getting requirements to build wheel ... \u001b[?25ldone\n",
      "\u001b[?25h  Preparing metadata (pyproject.toml) ... \u001b[?25ldone\n",
      "\u001b[?25hRequirement already satisfied: scikit-learn>=1.0 in /home/rafael/anaconda3/lib/python3.9/site-packages (from pycaret) (1.0.2)\n",
      "Requirement already satisfied: markupsafe>=2.0.1 in /home/rafael/anaconda3/lib/python3.9/site-packages (from pycaret) (2.1.2)\n",
      "Requirement already satisfied: nbformat>=4.2.0 in /home/rafael/anaconda3/lib/python3.9/site-packages (from pycaret) (5.5.0)\n",
      "Collecting imbalanced-learn>=0.8.1\n",
      "  Downloading imbalanced_learn-0.10.1-py3-none-any.whl (226 kB)\n",
      "\u001b[2K     \u001b[90m━━━━━━━━━━━━━━━━━━━━━━━━━━━━━━━━━━━━━━━\u001b[0m \u001b[32m226.0/226.0 kB\u001b[0m \u001b[31m1.4 MB/s\u001b[0m eta \u001b[36m0:00:00\u001b[0ma \u001b[36m0:00:01\u001b[0m\n",
      "\u001b[?25hRequirement already satisfied: numpy<1.24,>=1.21 in /home/rafael/anaconda3/lib/python3.9/site-packages (from pycaret) (1.21.5)\n",
      "Collecting lightgbm>=3.0.0\n",
      "  Downloading lightgbm-3.3.5-py3-none-manylinux1_x86_64.whl (2.0 MB)\n",
      "\u001b[2K     \u001b[90m━━━━━━━━━━━━━━━━━━━━━━━━━━━━━━━━━━━━━━━━\u001b[0m \u001b[32m2.0/2.0 MB\u001b[0m \u001b[31m10.9 MB/s\u001b[0m eta \u001b[36m0:00:00\u001b[0m00:01\u001b[0m00:01\u001b[0m\n",
      "\u001b[?25hRequirement already satisfied: pandas<2.0.0,>=1.3.0 in /home/rafael/anaconda3/lib/python3.9/site-packages (from pycaret) (1.4.4)\n",
      "Collecting scikit-plot>=0.3.7\n",
      "  Downloading scikit_plot-0.3.7-py3-none-any.whl (33 kB)\n",
      "Collecting pyod>=1.0.8\n",
      "  Downloading pyod-1.0.9.tar.gz (149 kB)\n",
      "\u001b[2K     \u001b[90m━━━━━━━━━━━━━━━━━━━━━━━━━━━━━━━━━━━━━━\u001b[0m \u001b[32m150.0/150.0 kB\u001b[0m \u001b[31m11.3 MB/s\u001b[0m eta \u001b[36m0:00:00\u001b[0m\n",
      "\u001b[?25h  Preparing metadata (setup.py) ... \u001b[?25ldone\n",
      "\u001b[?25hCollecting importlib-metadata>=4.12.0\n",
      "  Downloading importlib_metadata-6.6.0-py3-none-any.whl (22 kB)\n",
      "Collecting joblib>=1.2.0\n",
      "  Downloading joblib-1.2.0-py3-none-any.whl (297 kB)\n",
      "\u001b[2K     \u001b[90m━━━━━━━━━━━━━━━━━━━━━━━━━━━━━━━━━━━━━\u001b[0m \u001b[32m298.0/298.0 kB\u001b[0m \u001b[31m663.6 kB/s\u001b[0m eta \u001b[36m0:00:00\u001b[0ma \u001b[36m0:00:01\u001b[0m\n",
      "\u001b[?25hRequirement already satisfied: jinja2>=1.2 in /home/rafael/anaconda3/lib/python3.9/site-packages (from pycaret) (3.1.2)\n",
      "Collecting pmdarima!=1.8.1,<3.0.0,>=1.8.0\n",
      "  Downloading pmdarima-2.0.3-cp39-cp39-manylinux_2_17_x86_64.manylinux2014_x86_64.manylinux_2_28_x86_64.whl (1.9 MB)\n",
      "\u001b[2K     \u001b[90m━━━━━━━━━━━━━━━━━━━━━━━━━━━━━━━━━━━━━━━━\u001b[0m \u001b[32m1.9/1.9 MB\u001b[0m \u001b[31m9.2 MB/s\u001b[0m eta \u001b[36m0:00:00\u001b[0m:00:01\u001b[0m0:01\u001b[0m\n",
      "\u001b[?25hRequirement already satisfied: wurlitzer in /home/rafael/anaconda3/lib/python3.9/site-packages (from pycaret) (3.0.2)\n",
      "Requirement already satisfied: numba>=0.55.0 in /home/rafael/anaconda3/lib/python3.9/site-packages (from pycaret) (0.55.1)\n",
      "Requirement already satisfied: tqdm>=4.62.0 in /home/rafael/anaconda3/lib/python3.9/site-packages (from pycaret) (4.64.1)\n",
      "Requirement already satisfied: requests>=2.27.1 in /home/rafael/anaconda3/lib/python3.9/site-packages (from pycaret) (2.28.1)\n",
      "Collecting sktime!=0.17.1,<0.17.2,>=0.16.1\n",
      "  Downloading sktime-0.17.0-py3-none-any.whl (16.1 MB)\n",
      "\u001b[2K     \u001b[90m━━━━━━━━━━━━━━━━━━━━━━━━━━━━━━━━━━━━━━━━\u001b[0m \u001b[32m16.1/16.1 MB\u001b[0m \u001b[31m9.5 MB/s\u001b[0m eta \u001b[36m0:00:00\u001b[0m:00:01\u001b[0m00:01\u001b[0m\n",
      "\u001b[?25hCollecting yellowbrick>=1.4\n",
      "  Downloading yellowbrick-1.5-py3-none-any.whl (282 kB)\n",
      "\u001b[2K     \u001b[90m━━━━━━━━━━━━━━━━━━━━━━━━━━━━━━━━━━━━━━\u001b[0m \u001b[32m282.6/282.6 kB\u001b[0m \u001b[31m10.4 MB/s\u001b[0m eta \u001b[36m0:00:00\u001b[0m\n",
      "\u001b[?25hRequirement already satisfied: matplotlib>=3.3.0 in /home/rafael/anaconda3/lib/python3.9/site-packages (from pycaret) (3.5.2)\n",
      "Requirement already satisfied: ipywidgets>=7.6.5 in /home/rafael/anaconda3/lib/python3.9/site-packages (from pycaret) (7.6.5)\n",
      "Collecting xxhash\n",
      "  Downloading xxhash-3.2.0-cp39-cp39-manylinux_2_17_x86_64.manylinux2014_x86_64.whl (212 kB)\n",
      "\u001b[2K     \u001b[90m━━━━━━━━━━━━━━━━━━━━━━━━━━━━━━━━━━━━━━\u001b[0m \u001b[32m212.2/212.2 kB\u001b[0m \u001b[31m10.6 MB/s\u001b[0m eta \u001b[36m0:00:00\u001b[0m\n",
      "\u001b[?25hRequirement already satisfied: plotly>=5.0.0 in /home/rafael/anaconda3/lib/python3.9/site-packages (from pycaret) (5.9.0)\n",
      "Collecting schemdraw==0.15\n",
      "  Downloading schemdraw-0.15-py3-none-any.whl (106 kB)\n",
      "\u001b[2K     \u001b[90m━━━━━━━━━━━━━━━━━━━━━━━━━━━━━━━━━━━━━━\u001b[0m \u001b[32m106.8/106.8 kB\u001b[0m \u001b[31m11.3 MB/s\u001b[0m eta \u001b[36m0:00:00\u001b[0m\n",
      "\u001b[?25hCollecting tbats>=1.1.3\n",
      "  Downloading tbats-1.1.3-py3-none-any.whl (44 kB)\n",
      "\u001b[2K     \u001b[90m━━━━━━━━━━━━━━━━━━━━━━━━━━━━━━━━━━━━━━━━\u001b[0m \u001b[32m44.0/44.0 kB\u001b[0m \u001b[31m10.1 MB/s\u001b[0m eta \u001b[36m0:00:00\u001b[0m\n",
      "\u001b[?25hRequirement already satisfied: cloudpickle in /home/rafael/anaconda3/lib/python3.9/site-packages (from pycaret) (2.0.0)\n",
      "Requirement already satisfied: patsy>=0.5.1 in /home/rafael/anaconda3/lib/python3.9/site-packages (from category-encoders>=2.4.0->pycaret) (0.5.2)\n",
      "Requirement already satisfied: packaging in /home/rafael/anaconda3/lib/python3.9/site-packages (from deprecation>=2.1.0->pycaret) (21.3)\n",
      "Requirement already satisfied: threadpoolctl>=2.0.0 in /home/rafael/anaconda3/lib/python3.9/site-packages (from imbalanced-learn>=0.8.1->pycaret) (2.2.0)\n",
      "Requirement already satisfied: zipp>=0.5 in /home/rafael/anaconda3/lib/python3.9/site-packages (from importlib-metadata>=4.12.0->pycaret) (3.8.0)\n",
      "Requirement already satisfied: decorator in /home/rafael/anaconda3/lib/python3.9/site-packages (from ipython>=5.5.0->pycaret) (5.1.1)\n",
      "Requirement already satisfied: prompt-toolkit!=3.0.0,!=3.0.1,<3.1.0,>=2.0.0 in /home/rafael/anaconda3/lib/python3.9/site-packages (from ipython>=5.5.0->pycaret) (3.0.20)\n",
      "Requirement already satisfied: matplotlib-inline in /home/rafael/anaconda3/lib/python3.9/site-packages (from ipython>=5.5.0->pycaret) (0.1.6)\n",
      "Requirement already satisfied: pygments in /home/rafael/anaconda3/lib/python3.9/site-packages (from ipython>=5.5.0->pycaret) (2.14.0)\n",
      "Requirement already satisfied: jedi>=0.16 in /home/rafael/anaconda3/lib/python3.9/site-packages (from ipython>=5.5.0->pycaret) (0.18.1)\n",
      "Requirement already satisfied: pexpect>4.3 in /home/rafael/anaconda3/lib/python3.9/site-packages (from ipython>=5.5.0->pycaret) (4.8.0)\n",
      "Requirement already satisfied: setuptools>=18.5 in /home/rafael/anaconda3/lib/python3.9/site-packages (from ipython>=5.5.0->pycaret) (63.4.1)\n",
      "Requirement already satisfied: pickleshare in /home/rafael/anaconda3/lib/python3.9/site-packages (from ipython>=5.5.0->pycaret) (0.7.5)\n",
      "Requirement already satisfied: traitlets>=4.2 in /home/rafael/anaconda3/lib/python3.9/site-packages (from ipython>=5.5.0->pycaret) (5.1.1)\n",
      "Requirement already satisfied: backcall in /home/rafael/anaconda3/lib/python3.9/site-packages (from ipython>=5.5.0->pycaret) (0.2.0)\n",
      "Requirement already satisfied: ipykernel>=4.5.1 in /home/rafael/anaconda3/lib/python3.9/site-packages (from ipywidgets>=7.6.5->pycaret) (6.15.2)\n",
      "Requirement already satisfied: ipython-genutils~=0.2.0 in /home/rafael/anaconda3/lib/python3.9/site-packages (from ipywidgets>=7.6.5->pycaret) (0.2.0)\n",
      "Requirement already satisfied: jupyterlab-widgets>=1.0.0 in /home/rafael/anaconda3/lib/python3.9/site-packages (from ipywidgets>=7.6.5->pycaret) (1.0.0)\n",
      "Requirement already satisfied: widgetsnbextension~=3.5.0 in /home/rafael/anaconda3/lib/python3.9/site-packages (from ipywidgets>=7.6.5->pycaret) (3.5.2)\n",
      "Requirement already satisfied: wheel in /home/rafael/anaconda3/lib/python3.9/site-packages (from lightgbm>=3.0.0->pycaret) (0.37.1)\n",
      "Requirement already satisfied: fonttools>=4.22.0 in /home/rafael/anaconda3/lib/python3.9/site-packages (from matplotlib>=3.3.0->pycaret) (4.25.0)\n",
      "Requirement already satisfied: pillow>=6.2.0 in /home/rafael/anaconda3/lib/python3.9/site-packages (from matplotlib>=3.3.0->pycaret) (9.2.0)\n",
      "Requirement already satisfied: python-dateutil>=2.7 in /home/rafael/anaconda3/lib/python3.9/site-packages (from matplotlib>=3.3.0->pycaret) (2.8.2)\n",
      "Requirement already satisfied: pyparsing>=2.2.1 in /home/rafael/anaconda3/lib/python3.9/site-packages (from matplotlib>=3.3.0->pycaret) (3.0.9)\n",
      "Requirement already satisfied: cycler>=0.10 in /home/rafael/anaconda3/lib/python3.9/site-packages (from matplotlib>=3.3.0->pycaret) (0.11.0)\n",
      "Requirement already satisfied: kiwisolver>=1.0.1 in /home/rafael/anaconda3/lib/python3.9/site-packages (from matplotlib>=3.3.0->pycaret) (1.4.2)\n",
      "Requirement already satisfied: jsonschema>=2.6 in /home/rafael/anaconda3/lib/python3.9/site-packages (from nbformat>=4.2.0->pycaret) (4.16.0)\n",
      "Requirement already satisfied: fastjsonschema in /home/rafael/anaconda3/lib/python3.9/site-packages (from nbformat>=4.2.0->pycaret) (2.16.2)\n",
      "Requirement already satisfied: jupyter_core in /home/rafael/anaconda3/lib/python3.9/site-packages (from nbformat>=4.2.0->pycaret) (4.11.1)\n",
      "Requirement already satisfied: llvmlite<0.39,>=0.38.0rc1 in /home/rafael/anaconda3/lib/python3.9/site-packages (from numba>=0.55.0->pycaret) (0.38.0)\n",
      "Requirement already satisfied: pytz>=2020.1 in /home/rafael/anaconda3/lib/python3.9/site-packages (from pandas<2.0.0,>=1.3.0->pycaret) (2022.1)\n",
      "Requirement already satisfied: tenacity>=6.2.0 in /home/rafael/anaconda3/lib/python3.9/site-packages (from plotly>=5.0.0->pycaret) (8.0.1)\n",
      "Collecting trace-updater>=0.0.8\n",
      "  Downloading trace_updater-0.0.9.1-py3-none-any.whl (185 kB)\n",
      "\u001b[2K     \u001b[90m━━━━━━━━━━━━━━━━━━━━━━━━━━━━━━━━━━━━━━\u001b[0m \u001b[32m185.2/185.2 kB\u001b[0m \u001b[31m10.5 MB/s\u001b[0m eta \u001b[36m0:00:00\u001b[0m\n",
      "\u001b[?25hCollecting dash<3.0.0,>=2.2.0\n",
      "  Downloading dash-2.10.2-py3-none-any.whl (10.3 MB)\n",
      "\u001b[2K     \u001b[90m━━━━━━━━━━━━━━━━━━━━━━━━━━━━━━━━━━━━━━━━\u001b[0m \u001b[32m10.3/10.3 MB\u001b[0m \u001b[31m9.7 MB/s\u001b[0m eta \u001b[36m0:00:00\u001b[0m:00:01\u001b[0m00:01\u001b[0m\n",
      "\u001b[?25hCollecting orjson<4.0.0,>=3.8.0\n",
      "  Downloading orjson-3.9.1-cp39-cp39-manylinux_2_17_x86_64.manylinux2014_x86_64.whl (136 kB)\n",
      "\u001b[2K     \u001b[90m━━━━━━━━━━━━━━━━━━━━━━━━━━━━━━━━━━━━━━\u001b[0m \u001b[32m136.9/136.9 kB\u001b[0m \u001b[31m10.6 MB/s\u001b[0m eta \u001b[36m0:00:00\u001b[0m\n",
      "\u001b[?25hCollecting jupyter-dash>=0.4.2\n",
      "  Downloading jupyter_dash-0.4.2-py3-none-any.whl (23 kB)\n",
      "Requirement already satisfied: urllib3 in /home/rafael/anaconda3/lib/python3.9/site-packages (from pmdarima!=1.8.1,<3.0.0,>=1.8.0->pycaret) (1.26.11)\n",
      "Requirement already satisfied: Cython!=0.29.18,!=0.29.31,>=0.29 in /home/rafael/anaconda3/lib/python3.9/site-packages (from pmdarima!=1.8.1,<3.0.0,>=1.8.0->pycaret) (0.29.32)\n",
      "Requirement already satisfied: six in /home/rafael/anaconda3/lib/python3.9/site-packages (from pyod>=1.0.8->pycaret) (1.16.0)\n",
      "Requirement already satisfied: charset-normalizer<3,>=2 in /home/rafael/anaconda3/lib/python3.9/site-packages (from requests>=2.27.1->pycaret) (2.0.4)\n",
      "Requirement already satisfied: idna<4,>=2.5 in /home/rafael/anaconda3/lib/python3.9/site-packages (from requests>=2.27.1->pycaret) (3.3)\n",
      "Requirement already satisfied: certifi>=2017.4.17 in /home/rafael/anaconda3/lib/python3.9/site-packages (from requests>=2.27.1->pycaret) (2022.9.14)\n",
      "Requirement already satisfied: deprecated>=1.2.13 in /home/rafael/anaconda3/lib/python3.9/site-packages (from sktime!=0.17.1,<0.17.2,>=0.16.1->pycaret) (1.2.13)\n",
      "Collecting dash-html-components==2.0.0\n",
      "  Downloading dash_html_components-2.0.0-py3-none-any.whl (4.1 kB)\n",
      "Collecting dash-core-components==2.0.0\n",
      "  Downloading dash_core_components-2.0.0-py3-none-any.whl (3.8 kB)\n",
      "Requirement already satisfied: Flask<2.3.0,>=1.0.4 in /home/rafael/anaconda3/lib/python3.9/site-packages (from dash<3.0.0,>=2.2.0->plotly-resampler>=0.8.3.1->pycaret) (2.2.3)\n",
      "Requirement already satisfied: Werkzeug<2.3.0 in /home/rafael/anaconda3/lib/python3.9/site-packages (from dash<3.0.0,>=2.2.0->plotly-resampler>=0.8.3.1->pycaret) (2.2.3)\n",
      "Collecting dash-table==5.0.0\n",
      "  Downloading dash_table-5.0.0-py3-none-any.whl (3.9 kB)\n",
      "Requirement already satisfied: wrapt<2,>=1.10 in /home/rafael/anaconda3/lib/python3.9/site-packages (from deprecated>=1.2.13->sktime!=0.17.1,<0.17.2,>=0.16.1->pycaret) (1.14.1)\n",
      "Requirement already satisfied: nest-asyncio in /home/rafael/anaconda3/lib/python3.9/site-packages (from ipykernel>=4.5.1->ipywidgets>=7.6.5->pycaret) (1.5.5)\n",
      "Requirement already satisfied: tornado>=6.1 in /home/rafael/anaconda3/lib/python3.9/site-packages (from ipykernel>=4.5.1->ipywidgets>=7.6.5->pycaret) (6.1)\n",
      "Requirement already satisfied: jupyter-client>=6.1.12 in /home/rafael/anaconda3/lib/python3.9/site-packages (from ipykernel>=4.5.1->ipywidgets>=7.6.5->pycaret) (7.3.4)\n",
      "Requirement already satisfied: pyzmq>=17 in /home/rafael/anaconda3/lib/python3.9/site-packages (from ipykernel>=4.5.1->ipywidgets>=7.6.5->pycaret) (23.2.0)\n",
      "Requirement already satisfied: debugpy>=1.0 in /home/rafael/anaconda3/lib/python3.9/site-packages (from ipykernel>=4.5.1->ipywidgets>=7.6.5->pycaret) (1.5.1)\n",
      "Requirement already satisfied: parso<0.9.0,>=0.8.0 in /home/rafael/anaconda3/lib/python3.9/site-packages (from jedi>=0.16->ipython>=5.5.0->pycaret) (0.8.3)\n",
      "Requirement already satisfied: pyrsistent!=0.17.0,!=0.17.1,!=0.17.2,>=0.14.0 in /home/rafael/anaconda3/lib/python3.9/site-packages (from jsonschema>=2.6->nbformat>=4.2.0->pycaret) (0.18.0)\n",
      "Requirement already satisfied: attrs>=17.4.0 in /home/rafael/anaconda3/lib/python3.9/site-packages (from jsonschema>=2.6->nbformat>=4.2.0->pycaret) (22.2.0)\n",
      "Collecting retrying\n",
      "  Downloading retrying-1.3.4-py3-none-any.whl (11 kB)\n",
      "Collecting ansi2html\n",
      "  Downloading ansi2html-1.8.0-py3-none-any.whl (16 kB)\n",
      "Requirement already satisfied: ptyprocess>=0.5 in /home/rafael/anaconda3/lib/python3.9/site-packages (from pexpect>4.3->ipython>=5.5.0->pycaret) (0.7.0)\n",
      "Requirement already satisfied: wcwidth in /home/rafael/anaconda3/lib/python3.9/site-packages (from prompt-toolkit!=3.0.0,!=3.0.1,<3.1.0,>=2.0.0->ipython>=5.5.0->pycaret) (0.2.5)\n",
      "Requirement already satisfied: notebook>=4.4.1 in /home/rafael/anaconda3/lib/python3.9/site-packages (from widgetsnbextension~=3.5.0->ipywidgets>=7.6.5->pycaret) (6.4.12)\n",
      "Requirement already satisfied: itsdangerous>=2.0 in /home/rafael/anaconda3/lib/python3.9/site-packages (from Flask<2.3.0,>=1.0.4->dash<3.0.0,>=2.2.0->plotly-resampler>=0.8.3.1->pycaret) (2.0.1)\n",
      "Requirement already satisfied: click>=8.0 in /home/rafael/anaconda3/lib/python3.9/site-packages (from Flask<2.3.0,>=1.0.4->dash<3.0.0,>=2.2.0->plotly-resampler>=0.8.3.1->pycaret) (8.0.4)\n",
      "Requirement already satisfied: entrypoints in /home/rafael/anaconda3/lib/python3.9/site-packages (from jupyter-client>=6.1.12->ipykernel>=4.5.1->ipywidgets>=7.6.5->pycaret) (0.4)\n",
      "Requirement already satisfied: nbconvert>=5 in /home/rafael/anaconda3/lib/python3.9/site-packages (from notebook>=4.4.1->widgetsnbextension~=3.5.0->ipywidgets>=7.6.5->pycaret) (6.4.4)\n",
      "Requirement already satisfied: terminado>=0.8.3 in /home/rafael/anaconda3/lib/python3.9/site-packages (from notebook>=4.4.1->widgetsnbextension~=3.5.0->ipywidgets>=7.6.5->pycaret) (0.13.1)\n",
      "Requirement already satisfied: prometheus-client in /home/rafael/anaconda3/lib/python3.9/site-packages (from notebook>=4.4.1->widgetsnbextension~=3.5.0->ipywidgets>=7.6.5->pycaret) (0.14.1)\n",
      "Requirement already satisfied: Send2Trash>=1.8.0 in /home/rafael/anaconda3/lib/python3.9/site-packages (from notebook>=4.4.1->widgetsnbextension~=3.5.0->ipywidgets>=7.6.5->pycaret) (1.8.0)\n",
      "Requirement already satisfied: argon2-cffi in /home/rafael/anaconda3/lib/python3.9/site-packages (from notebook>=4.4.1->widgetsnbextension~=3.5.0->ipywidgets>=7.6.5->pycaret) (21.3.0)\n",
      "Requirement already satisfied: beautifulsoup4 in /home/rafael/anaconda3/lib/python3.9/site-packages (from nbconvert>=5->notebook>=4.4.1->widgetsnbextension~=3.5.0->ipywidgets>=7.6.5->pycaret) (4.11.1)\n",
      "Requirement already satisfied: nbclient<0.6.0,>=0.5.0 in /home/rafael/anaconda3/lib/python3.9/site-packages (from nbconvert>=5->notebook>=4.4.1->widgetsnbextension~=3.5.0->ipywidgets>=7.6.5->pycaret) (0.5.13)\n",
      "Requirement already satisfied: jupyterlab-pygments in /home/rafael/anaconda3/lib/python3.9/site-packages (from nbconvert>=5->notebook>=4.4.1->widgetsnbextension~=3.5.0->ipywidgets>=7.6.5->pycaret) (0.1.2)\n",
      "Requirement already satisfied: mistune<2,>=0.8.1 in /home/rafael/anaconda3/lib/python3.9/site-packages (from nbconvert>=5->notebook>=4.4.1->widgetsnbextension~=3.5.0->ipywidgets>=7.6.5->pycaret) (0.8.4)\n",
      "Requirement already satisfied: bleach in /home/rafael/anaconda3/lib/python3.9/site-packages (from nbconvert>=5->notebook>=4.4.1->widgetsnbextension~=3.5.0->ipywidgets>=7.6.5->pycaret) (4.1.0)\n",
      "Requirement already satisfied: testpath in /home/rafael/anaconda3/lib/python3.9/site-packages (from nbconvert>=5->notebook>=4.4.1->widgetsnbextension~=3.5.0->ipywidgets>=7.6.5->pycaret) (0.6.0)\n",
      "Requirement already satisfied: pandocfilters>=1.4.1 in /home/rafael/anaconda3/lib/python3.9/site-packages (from nbconvert>=5->notebook>=4.4.1->widgetsnbextension~=3.5.0->ipywidgets>=7.6.5->pycaret) (1.5.0)\n",
      "Requirement already satisfied: defusedxml in /home/rafael/anaconda3/lib/python3.9/site-packages (from nbconvert>=5->notebook>=4.4.1->widgetsnbextension~=3.5.0->ipywidgets>=7.6.5->pycaret) (0.7.1)\n",
      "Requirement already satisfied: argon2-cffi-bindings in /home/rafael/anaconda3/lib/python3.9/site-packages (from argon2-cffi->notebook>=4.4.1->widgetsnbextension~=3.5.0->ipywidgets>=7.6.5->pycaret) (21.2.0)\n",
      "Requirement already satisfied: cffi>=1.0.1 in /home/rafael/anaconda3/lib/python3.9/site-packages (from argon2-cffi-bindings->argon2-cffi->notebook>=4.4.1->widgetsnbextension~=3.5.0->ipywidgets>=7.6.5->pycaret) (1.15.1)\n",
      "Requirement already satisfied: soupsieve>1.2 in /home/rafael/anaconda3/lib/python3.9/site-packages (from beautifulsoup4->nbconvert>=5->notebook>=4.4.1->widgetsnbextension~=3.5.0->ipywidgets>=7.6.5->pycaret) (2.3.1)\n",
      "Requirement already satisfied: webencodings in /home/rafael/anaconda3/lib/python3.9/site-packages (from bleach->nbconvert>=5->notebook>=4.4.1->widgetsnbextension~=3.5.0->ipywidgets>=7.6.5->pycaret) (0.5.1)\n",
      "Requirement already satisfied: pycparser in /home/rafael/anaconda3/lib/python3.9/site-packages (from cffi>=1.0.1->argon2-cffi-bindings->argon2-cffi->notebook>=4.4.1->widgetsnbextension~=3.5.0->ipywidgets>=7.6.5->pycaret) (2.21)\n",
      "Building wheels for collected packages: plotly-resampler, pyod\n",
      "  Building wheel for plotly-resampler (pyproject.toml) ... \u001b[?25ldone\n",
      "\u001b[?25h  Created wheel for plotly-resampler: filename=plotly_resampler-0.8.3.2-cp39-cp39-manylinux_2_35_x86_64.whl size=53471 sha256=d8488f93e404427db18628ac1d5d4e6e12f50c05d83d24064fd2940acf1009f3\n",
      "  Stored in directory: /home/rafael/.cache/pip/wheels/9e/36/06/4c11e300918011376af149098621ec7ebe06d8256566d43d51\n",
      "  Building wheel for pyod (setup.py) ... \u001b[?25ldone\n",
      "\u001b[?25h  Created wheel for pyod: filename=pyod-1.0.9-py3-none-any.whl size=184095 sha256=24a0b887539ccfaeb345f80f0b18e4ce0a2052ef991594db9198868977c53f38\n",
      "  Stored in directory: /home/rafael/.cache/pip/wheels/1b/9c/b8/9759d7cc64a1e01bb9872ade80cb7db445ccf506e083325106\n",
      "Successfully built plotly-resampler pyod\n",
      "Installing collected packages: trace-updater, kaleido, dash-table, dash-html-components, dash-core-components, xxhash, schemdraw, retrying, orjson, joblib, importlib-metadata, ansi2html, deprecation, yellowbrick, sktime, scikit-plot, pyod, lightgbm, imbalanced-learn, dash, pmdarima, jupyter-dash, category-encoders, tbats, plotly-resampler, pycaret\n",
      "  Attempting uninstall: joblib\n",
      "    Found existing installation: joblib 1.1.0\n",
      "    Uninstalling joblib-1.1.0:\n",
      "      Successfully uninstalled joblib-1.1.0\n",
      "  Attempting uninstall: importlib-metadata\n",
      "    Found existing installation: importlib-metadata 4.11.3\n",
      "    Uninstalling importlib-metadata-4.11.3:\n",
      "      Successfully uninstalled importlib-metadata-4.11.3\n",
      "\u001b[31mERROR: pip's dependency resolver does not currently take into account all the packages that are installed. This behaviour is the source of the following dependency conflicts.\n",
      "apache-airflow 2.5.2 requires importlib-metadata<5.0.0,>=1.7; python_version <= \"3.9\", but you have importlib-metadata 6.6.0 which is incompatible.\u001b[0m\u001b[31m\n",
      "\u001b[0mSuccessfully installed ansi2html-1.8.0 category-encoders-2.6.1 dash-2.10.2 dash-core-components-2.0.0 dash-html-components-2.0.0 dash-table-5.0.0 deprecation-2.1.0 imbalanced-learn-0.10.1 importlib-metadata-6.6.0 joblib-1.2.0 jupyter-dash-0.4.2 kaleido-0.2.1 lightgbm-3.3.5 orjson-3.9.1 plotly-resampler-0.8.3.2 pmdarima-2.0.3 pycaret-3.0.2 pyod-1.0.9 retrying-1.3.4 schemdraw-0.15 scikit-plot-0.3.7 sktime-0.17.0 tbats-1.1.3 trace-updater-0.0.9.1 xxhash-3.2.0 yellowbrick-1.5\n",
      "Note: you may need to restart the kernel to use updated packages.\n"
     ]
    }
   ],
   "source": [
    "pip install pycaret"
   ]
  },
  {
   "attachments": {},
   "cell_type": "markdown",
   "id": "421de2bf",
   "metadata": {},
   "source": [
    "#### Importando os métodos."
   ]
  },
  {
   "cell_type": "code",
   "execution_count": 58,
   "id": "0552d213",
   "metadata": {},
   "outputs": [],
   "source": [
    "from pycaret.classification import *"
   ]
  },
  {
   "attachments": {},
   "cell_type": "markdown",
   "id": "2fa945c2",
   "metadata": {},
   "source": [
    "#### Definindo o Setup."
   ]
  },
  {
   "cell_type": "code",
   "execution_count": 59,
   "id": "5de9ab9b",
   "metadata": {
    "scrolled": true,
    "tags": []
   },
   "outputs": [
    {
     "data": {
      "text/html": [
       "<style type=\"text/css\">\n",
       "#T_7818a_row8_col1, #T_7818a_row12_col1, #T_7818a_row14_col1 {\n",
       "  background-color: lightgreen;\n",
       "}\n",
       "</style>\n",
       "<table id=\"T_7818a\">\n",
       "  <thead>\n",
       "    <tr>\n",
       "      <th class=\"blank level0\" >&nbsp;</th>\n",
       "      <th id=\"T_7818a_level0_col0\" class=\"col_heading level0 col0\" >Description</th>\n",
       "      <th id=\"T_7818a_level0_col1\" class=\"col_heading level0 col1\" >Value</th>\n",
       "    </tr>\n",
       "  </thead>\n",
       "  <tbody>\n",
       "    <tr>\n",
       "      <th id=\"T_7818a_level0_row0\" class=\"row_heading level0 row0\" >0</th>\n",
       "      <td id=\"T_7818a_row0_col0\" class=\"data row0 col0\" >Session id</td>\n",
       "      <td id=\"T_7818a_row0_col1\" class=\"data row0 col1\" >314</td>\n",
       "    </tr>\n",
       "    <tr>\n",
       "      <th id=\"T_7818a_level0_row1\" class=\"row_heading level0 row1\" >1</th>\n",
       "      <td id=\"T_7818a_row1_col0\" class=\"data row1 col0\" >Target</td>\n",
       "      <td id=\"T_7818a_row1_col1\" class=\"data row1 col1\" >turnover</td>\n",
       "    </tr>\n",
       "    <tr>\n",
       "      <th id=\"T_7818a_level0_row2\" class=\"row_heading level0 row2\" >2</th>\n",
       "      <td id=\"T_7818a_row2_col0\" class=\"data row2 col0\" >Target type</td>\n",
       "      <td id=\"T_7818a_row2_col1\" class=\"data row2 col1\" >Binary</td>\n",
       "    </tr>\n",
       "    <tr>\n",
       "      <th id=\"T_7818a_level0_row3\" class=\"row_heading level0 row3\" >3</th>\n",
       "      <td id=\"T_7818a_row3_col0\" class=\"data row3 col0\" >Original data shape</td>\n",
       "      <td id=\"T_7818a_row3_col1\" class=\"data row3 col1\" >(14998, 5)</td>\n",
       "    </tr>\n",
       "    <tr>\n",
       "      <th id=\"T_7818a_level0_row4\" class=\"row_heading level0 row4\" >4</th>\n",
       "      <td id=\"T_7818a_row4_col0\" class=\"data row4 col0\" >Transformed data shape</td>\n",
       "      <td id=\"T_7818a_row4_col1\" class=\"data row4 col1\" >(20498, 5)</td>\n",
       "    </tr>\n",
       "    <tr>\n",
       "      <th id=\"T_7818a_level0_row5\" class=\"row_heading level0 row5\" >5</th>\n",
       "      <td id=\"T_7818a_row5_col0\" class=\"data row5 col0\" >Transformed train set shape</td>\n",
       "      <td id=\"T_7818a_row5_col1\" class=\"data row5 col1\" >(15998, 5)</td>\n",
       "    </tr>\n",
       "    <tr>\n",
       "      <th id=\"T_7818a_level0_row6\" class=\"row_heading level0 row6\" >6</th>\n",
       "      <td id=\"T_7818a_row6_col0\" class=\"data row6 col0\" >Transformed test set shape</td>\n",
       "      <td id=\"T_7818a_row6_col1\" class=\"data row6 col1\" >(4500, 5)</td>\n",
       "    </tr>\n",
       "    <tr>\n",
       "      <th id=\"T_7818a_level0_row7\" class=\"row_heading level0 row7\" >7</th>\n",
       "      <td id=\"T_7818a_row7_col0\" class=\"data row7 col0\" >Numeric features</td>\n",
       "      <td id=\"T_7818a_row7_col1\" class=\"data row7 col1\" >1</td>\n",
       "    </tr>\n",
       "    <tr>\n",
       "      <th id=\"T_7818a_level0_row8\" class=\"row_heading level0 row8\" >8</th>\n",
       "      <td id=\"T_7818a_row8_col0\" class=\"data row8 col0\" >Preprocess</td>\n",
       "      <td id=\"T_7818a_row8_col1\" class=\"data row8 col1\" >True</td>\n",
       "    </tr>\n",
       "    <tr>\n",
       "      <th id=\"T_7818a_level0_row9\" class=\"row_heading level0 row9\" >9</th>\n",
       "      <td id=\"T_7818a_row9_col0\" class=\"data row9 col0\" >Imputation type</td>\n",
       "      <td id=\"T_7818a_row9_col1\" class=\"data row9 col1\" >simple</td>\n",
       "    </tr>\n",
       "    <tr>\n",
       "      <th id=\"T_7818a_level0_row10\" class=\"row_heading level0 row10\" >10</th>\n",
       "      <td id=\"T_7818a_row10_col0\" class=\"data row10 col0\" >Numeric imputation</td>\n",
       "      <td id=\"T_7818a_row10_col1\" class=\"data row10 col1\" >mean</td>\n",
       "    </tr>\n",
       "    <tr>\n",
       "      <th id=\"T_7818a_level0_row11\" class=\"row_heading level0 row11\" >11</th>\n",
       "      <td id=\"T_7818a_row11_col0\" class=\"data row11 col0\" >Categorical imputation</td>\n",
       "      <td id=\"T_7818a_row11_col1\" class=\"data row11 col1\" >mode</td>\n",
       "    </tr>\n",
       "    <tr>\n",
       "      <th id=\"T_7818a_level0_row12\" class=\"row_heading level0 row12\" >12</th>\n",
       "      <td id=\"T_7818a_row12_col0\" class=\"data row12 col0\" >Fix imbalance</td>\n",
       "      <td id=\"T_7818a_row12_col1\" class=\"data row12 col1\" >True</td>\n",
       "    </tr>\n",
       "    <tr>\n",
       "      <th id=\"T_7818a_level0_row13\" class=\"row_heading level0 row13\" >13</th>\n",
       "      <td id=\"T_7818a_row13_col0\" class=\"data row13 col0\" >Fix imbalance method</td>\n",
       "      <td id=\"T_7818a_row13_col1\" class=\"data row13 col1\" >SMOTE</td>\n",
       "    </tr>\n",
       "    <tr>\n",
       "      <th id=\"T_7818a_level0_row14\" class=\"row_heading level0 row14\" >14</th>\n",
       "      <td id=\"T_7818a_row14_col0\" class=\"data row14 col0\" >Normalize</td>\n",
       "      <td id=\"T_7818a_row14_col1\" class=\"data row14 col1\" >True</td>\n",
       "    </tr>\n",
       "    <tr>\n",
       "      <th id=\"T_7818a_level0_row15\" class=\"row_heading level0 row15\" >15</th>\n",
       "      <td id=\"T_7818a_row15_col0\" class=\"data row15 col0\" >Normalize method</td>\n",
       "      <td id=\"T_7818a_row15_col1\" class=\"data row15 col1\" >minmax</td>\n",
       "    </tr>\n",
       "    <tr>\n",
       "      <th id=\"T_7818a_level0_row16\" class=\"row_heading level0 row16\" >16</th>\n",
       "      <td id=\"T_7818a_row16_col0\" class=\"data row16 col0\" >Fold Generator</td>\n",
       "      <td id=\"T_7818a_row16_col1\" class=\"data row16 col1\" >StratifiedKFold</td>\n",
       "    </tr>\n",
       "    <tr>\n",
       "      <th id=\"T_7818a_level0_row17\" class=\"row_heading level0 row17\" >17</th>\n",
       "      <td id=\"T_7818a_row17_col0\" class=\"data row17 col0\" >Fold Number</td>\n",
       "      <td id=\"T_7818a_row17_col1\" class=\"data row17 col1\" >10</td>\n",
       "    </tr>\n",
       "    <tr>\n",
       "      <th id=\"T_7818a_level0_row18\" class=\"row_heading level0 row18\" >18</th>\n",
       "      <td id=\"T_7818a_row18_col0\" class=\"data row18 col0\" >CPU Jobs</td>\n",
       "      <td id=\"T_7818a_row18_col1\" class=\"data row18 col1\" >-1</td>\n",
       "    </tr>\n",
       "    <tr>\n",
       "      <th id=\"T_7818a_level0_row19\" class=\"row_heading level0 row19\" >19</th>\n",
       "      <td id=\"T_7818a_row19_col0\" class=\"data row19 col0\" >Use GPU</td>\n",
       "      <td id=\"T_7818a_row19_col1\" class=\"data row19 col1\" >False</td>\n",
       "    </tr>\n",
       "    <tr>\n",
       "      <th id=\"T_7818a_level0_row20\" class=\"row_heading level0 row20\" >20</th>\n",
       "      <td id=\"T_7818a_row20_col0\" class=\"data row20 col0\" >Log Experiment</td>\n",
       "      <td id=\"T_7818a_row20_col1\" class=\"data row20 col1\" >False</td>\n",
       "    </tr>\n",
       "    <tr>\n",
       "      <th id=\"T_7818a_level0_row21\" class=\"row_heading level0 row21\" >21</th>\n",
       "      <td id=\"T_7818a_row21_col0\" class=\"data row21 col0\" >Experiment Name</td>\n",
       "      <td id=\"T_7818a_row21_col1\" class=\"data row21 col1\" >clf-default-name</td>\n",
       "    </tr>\n",
       "    <tr>\n",
       "      <th id=\"T_7818a_level0_row22\" class=\"row_heading level0 row22\" >22</th>\n",
       "      <td id=\"T_7818a_row22_col0\" class=\"data row22 col0\" >USI</td>\n",
       "      <td id=\"T_7818a_row22_col1\" class=\"data row22 col1\" >7f8a</td>\n",
       "    </tr>\n",
       "  </tbody>\n",
       "</table>\n"
      ],
      "text/plain": [
       "<pandas.io.formats.style.Styler at 0x7fe96ec2bfd0>"
      ]
     },
     "metadata": {},
     "output_type": "display_data"
    }
   ],
   "source": [
    "s = setup( df[[\"satisfaction\",\"evaluation\",\"averageMonthlyHours\",\"yearsAtCompany\",\"turnover\"]]\n",
    "          ,target = \"turnover\"\n",
    "          ,numeric_features = [\"yearsAtCompany\"]\n",
    "          ,normalize = True\n",
    "          ,normalize_method = \"minmax\"\n",
    "          ,data_split_stratify = True\n",
    "          ,fix_imbalance = True,\n",
    "         )"
   ]
  },
  {
   "attachments": {},
   "cell_type": "markdown",
   "id": "6612ce69",
   "metadata": {
    "tags": []
   },
   "source": [
    "#### Comparando diferentes modelos."
   ]
  },
  {
   "cell_type": "code",
   "execution_count": 60,
   "id": "02172f9a",
   "metadata": {},
   "outputs": [
    {
     "data": {
      "text/html": [
       "<div>\n",
       "<style scoped>\n",
       "    .dataframe tbody tr th:only-of-type {\n",
       "        vertical-align: middle;\n",
       "    }\n",
       "\n",
       "    .dataframe tbody tr th {\n",
       "        vertical-align: top;\n",
       "    }\n",
       "\n",
       "    .dataframe thead th {\n",
       "        text-align: right;\n",
       "    }\n",
       "</style>\n",
       "<table border=\"1\" class=\"dataframe\">\n",
       "  <thead>\n",
       "    <tr style=\"text-align: right;\">\n",
       "      <th></th>\n",
       "      <th></th>\n",
       "      <th></th>\n",
       "    </tr>\n",
       "    <tr>\n",
       "      <th></th>\n",
       "      <th></th>\n",
       "      <th></th>\n",
       "    </tr>\n",
       "  </thead>\n",
       "  <tbody>\n",
       "    <tr>\n",
       "      <th>Initiated</th>\n",
       "      <td>. . . . . . . . . . . . . . . . . .</td>\n",
       "      <td>19:28:15</td>\n",
       "    </tr>\n",
       "    <tr>\n",
       "      <th>Status</th>\n",
       "      <td>. . . . . . . . . . . . . . . . . .</td>\n",
       "      <td>Loading Dependencies</td>\n",
       "    </tr>\n",
       "    <tr>\n",
       "      <th>Estimator</th>\n",
       "      <td>. . . . . . . . . . . . . . . . . .</td>\n",
       "      <td>Compiling Library</td>\n",
       "    </tr>\n",
       "  </tbody>\n",
       "</table>\n",
       "</div>"
      ],
      "text/plain": [
       "                                                                    \n",
       "                                                                    \n",
       "Initiated  . . . . . . . . . . . . . . . . . .              19:28:15\n",
       "Status     . . . . . . . . . . . . . . . . . .  Loading Dependencies\n",
       "Estimator  . . . . . . . . . . . . . . . . . .     Compiling Library"
      ]
     },
     "metadata": {},
     "output_type": "display_data"
    },
    {
     "data": {
      "text/html": [],
      "text/plain": [
       "<IPython.core.display.HTML object>"
      ]
     },
     "metadata": {},
     "output_type": "display_data"
    }
   ],
   "source": [
    "best = compare_models(fold = 5,sort = 'AUC')"
   ]
  },
  {
   "attachments": {},
   "cell_type": "markdown",
   "id": "d6af08bc",
   "metadata": {},
   "source": [
    "#### Criando o modelo."
   ]
  },
  {
   "cell_type": "code",
   "execution_count": 61,
   "id": "edcf1615",
   "metadata": {},
   "outputs": [
    {
     "data": {
      "text/html": [
       "<div>\n",
       "<style scoped>\n",
       "    .dataframe tbody tr th:only-of-type {\n",
       "        vertical-align: middle;\n",
       "    }\n",
       "\n",
       "    .dataframe tbody tr th {\n",
       "        vertical-align: top;\n",
       "    }\n",
       "\n",
       "    .dataframe thead th {\n",
       "        text-align: right;\n",
       "    }\n",
       "</style>\n",
       "<table border=\"1\" class=\"dataframe\">\n",
       "  <thead>\n",
       "    <tr style=\"text-align: right;\">\n",
       "      <th></th>\n",
       "      <th></th>\n",
       "      <th></th>\n",
       "    </tr>\n",
       "    <tr>\n",
       "      <th></th>\n",
       "      <th></th>\n",
       "      <th></th>\n",
       "    </tr>\n",
       "  </thead>\n",
       "  <tbody>\n",
       "    <tr>\n",
       "      <th>Initiated</th>\n",
       "      <td>. . . . . . . . . . . . . . . . . .</td>\n",
       "      <td>19:28:30</td>\n",
       "    </tr>\n",
       "    <tr>\n",
       "      <th>Status</th>\n",
       "      <td>. . . . . . . . . . . . . . . . . .</td>\n",
       "      <td>Selecting Estimator</td>\n",
       "    </tr>\n",
       "    <tr>\n",
       "      <th>Estimator</th>\n",
       "      <td>. . . . . . . . . . . . . . . . . .</td>\n",
       "      <td>Compiling Library</td>\n",
       "    </tr>\n",
       "  </tbody>\n",
       "</table>\n",
       "</div>"
      ],
      "text/plain": [
       "                                                                   \n",
       "                                                                   \n",
       "Initiated  . . . . . . . . . . . . . . . . . .             19:28:30\n",
       "Status     . . . . . . . . . . . . . . . . . .  Selecting Estimator\n",
       "Estimator  . . . . . . . . . . . . . . . . . .    Compiling Library"
      ]
     },
     "metadata": {},
     "output_type": "display_data"
    },
    {
     "data": {
      "text/html": [
       "<style type=\"text/css\">\n",
       "#T_0f7be_row5_col0, #T_0f7be_row5_col1, #T_0f7be_row5_col2, #T_0f7be_row5_col3, #T_0f7be_row5_col4, #T_0f7be_row5_col5, #T_0f7be_row5_col6 {\n",
       "  background: yellow;\n",
       "}\n",
       "</style>\n",
       "<table id=\"T_0f7be\">\n",
       "  <thead>\n",
       "    <tr>\n",
       "      <th class=\"blank level0\" >&nbsp;</th>\n",
       "      <th id=\"T_0f7be_level0_col0\" class=\"col_heading level0 col0\" >Accuracy</th>\n",
       "      <th id=\"T_0f7be_level0_col1\" class=\"col_heading level0 col1\" >AUC</th>\n",
       "      <th id=\"T_0f7be_level0_col2\" class=\"col_heading level0 col2\" >Recall</th>\n",
       "      <th id=\"T_0f7be_level0_col3\" class=\"col_heading level0 col3\" >Prec.</th>\n",
       "      <th id=\"T_0f7be_level0_col4\" class=\"col_heading level0 col4\" >F1</th>\n",
       "      <th id=\"T_0f7be_level0_col5\" class=\"col_heading level0 col5\" >Kappa</th>\n",
       "      <th id=\"T_0f7be_level0_col6\" class=\"col_heading level0 col6\" >MCC</th>\n",
       "    </tr>\n",
       "    <tr>\n",
       "      <th class=\"index_name level0\" >Fold</th>\n",
       "      <th class=\"blank col0\" >&nbsp;</th>\n",
       "      <th class=\"blank col1\" >&nbsp;</th>\n",
       "      <th class=\"blank col2\" >&nbsp;</th>\n",
       "      <th class=\"blank col3\" >&nbsp;</th>\n",
       "      <th class=\"blank col4\" >&nbsp;</th>\n",
       "      <th class=\"blank col5\" >&nbsp;</th>\n",
       "      <th class=\"blank col6\" >&nbsp;</th>\n",
       "    </tr>\n",
       "  </thead>\n",
       "  <tbody>\n",
       "    <tr>\n",
       "      <th id=\"T_0f7be_level0_row0\" class=\"row_heading level0 row0\" >0</th>\n",
       "      <td id=\"T_0f7be_row0_col0\" class=\"data row0 col0\" >0.8433</td>\n",
       "      <td id=\"T_0f7be_row0_col1\" class=\"data row0 col1\" >0.8178</td>\n",
       "      <td id=\"T_0f7be_row0_col2\" class=\"data row0 col2\" >0.6960</td>\n",
       "      <td id=\"T_0f7be_row0_col3\" class=\"data row0 col3\" >0.6629</td>\n",
       "      <td id=\"T_0f7be_row0_col4\" class=\"data row0 col4\" >0.6790</td>\n",
       "      <td id=\"T_0f7be_row0_col5\" class=\"data row0 col5\" >0.5755</td>\n",
       "      <td id=\"T_0f7be_row0_col6\" class=\"data row0 col6\" >0.5758</td>\n",
       "    </tr>\n",
       "    <tr>\n",
       "      <th id=\"T_0f7be_level0_row1\" class=\"row_heading level0 row1\" >1</th>\n",
       "      <td id=\"T_0f7be_row1_col0\" class=\"data row1 col0\" >0.8610</td>\n",
       "      <td id=\"T_0f7be_row1_col1\" class=\"data row1 col1\" >0.8226</td>\n",
       "      <td id=\"T_0f7be_row1_col2\" class=\"data row1 col2\" >0.7360</td>\n",
       "      <td id=\"T_0f7be_row1_col3\" class=\"data row1 col3\" >0.6970</td>\n",
       "      <td id=\"T_0f7be_row1_col4\" class=\"data row1 col4\" >0.7160</td>\n",
       "      <td id=\"T_0f7be_row1_col5\" class=\"data row1 col5\" >0.6240</td>\n",
       "      <td id=\"T_0f7be_row1_col6\" class=\"data row1 col6\" >0.6244</td>\n",
       "    </tr>\n",
       "    <tr>\n",
       "      <th id=\"T_0f7be_level0_row2\" class=\"row_heading level0 row2\" >2</th>\n",
       "      <td id=\"T_0f7be_row2_col0\" class=\"data row2 col0\" >0.8500</td>\n",
       "      <td id=\"T_0f7be_row2_col1\" class=\"data row2 col1\" >0.8075</td>\n",
       "      <td id=\"T_0f7be_row2_col2\" class=\"data row2 col2\" >0.7040</td>\n",
       "      <td id=\"T_0f7be_row2_col3\" class=\"data row2 col3\" >0.6782</td>\n",
       "      <td id=\"T_0f7be_row2_col4\" class=\"data row2 col4\" >0.6909</td>\n",
       "      <td id=\"T_0f7be_row2_col5\" class=\"data row2 col5\" >0.5919</td>\n",
       "      <td id=\"T_0f7be_row2_col6\" class=\"data row2 col6\" >0.5921</td>\n",
       "    </tr>\n",
       "    <tr>\n",
       "      <th id=\"T_0f7be_level0_row3\" class=\"row_heading level0 row3\" >3</th>\n",
       "      <td id=\"T_0f7be_row3_col0\" class=\"data row3 col0\" >0.8366</td>\n",
       "      <td id=\"T_0f7be_row3_col1\" class=\"data row3 col1\" >0.8119</td>\n",
       "      <td id=\"T_0f7be_row3_col2\" class=\"data row3 col2\" >0.6874</td>\n",
       "      <td id=\"T_0f7be_row3_col3\" class=\"data row3 col3\" >0.6472</td>\n",
       "      <td id=\"T_0f7be_row3_col4\" class=\"data row3 col4\" >0.6667</td>\n",
       "      <td id=\"T_0f7be_row3_col5\" class=\"data row3 col5\" >0.5586</td>\n",
       "      <td id=\"T_0f7be_row3_col6\" class=\"data row3 col6\" >0.5590</td>\n",
       "    </tr>\n",
       "    <tr>\n",
       "      <th id=\"T_0f7be_level0_row4\" class=\"row_heading level0 row4\" >4</th>\n",
       "      <td id=\"T_0f7be_row4_col0\" class=\"data row4 col0\" >0.8342</td>\n",
       "      <td id=\"T_0f7be_row4_col1\" class=\"data row4 col1\" >0.8100</td>\n",
       "      <td id=\"T_0f7be_row4_col2\" class=\"data row4 col2\" >0.6980</td>\n",
       "      <td id=\"T_0f7be_row4_col3\" class=\"data row4 col3\" >0.6392</td>\n",
       "      <td id=\"T_0f7be_row4_col4\" class=\"data row4 col4\" >0.6673</td>\n",
       "      <td id=\"T_0f7be_row4_col5\" class=\"data row4 col5\" >0.5572</td>\n",
       "      <td id=\"T_0f7be_row4_col6\" class=\"data row4 col6\" >0.5581</td>\n",
       "    </tr>\n",
       "    <tr>\n",
       "      <th id=\"T_0f7be_level0_row5\" class=\"row_heading level0 row5\" >Mean</th>\n",
       "      <td id=\"T_0f7be_row5_col0\" class=\"data row5 col0\" >0.8450</td>\n",
       "      <td id=\"T_0f7be_row5_col1\" class=\"data row5 col1\" >0.8140</td>\n",
       "      <td id=\"T_0f7be_row5_col2\" class=\"data row5 col2\" >0.7043</td>\n",
       "      <td id=\"T_0f7be_row5_col3\" class=\"data row5 col3\" >0.6649</td>\n",
       "      <td id=\"T_0f7be_row5_col4\" class=\"data row5 col4\" >0.6840</td>\n",
       "      <td id=\"T_0f7be_row5_col5\" class=\"data row5 col5\" >0.5814</td>\n",
       "      <td id=\"T_0f7be_row5_col6\" class=\"data row5 col6\" >0.5819</td>\n",
       "    </tr>\n",
       "    <tr>\n",
       "      <th id=\"T_0f7be_level0_row6\" class=\"row_heading level0 row6\" >Std</th>\n",
       "      <td id=\"T_0f7be_row6_col0\" class=\"data row6 col0\" >0.0097</td>\n",
       "      <td id=\"T_0f7be_row6_col1\" class=\"data row6 col1\" >0.0055</td>\n",
       "      <td id=\"T_0f7be_row6_col2\" class=\"data row6 col2\" >0.0167</td>\n",
       "      <td id=\"T_0f7be_row6_col3\" class=\"data row6 col3\" >0.0209</td>\n",
       "      <td id=\"T_0f7be_row6_col4\" class=\"data row6 col4\" >0.0183</td>\n",
       "      <td id=\"T_0f7be_row6_col5\" class=\"data row6 col5\" >0.0248</td>\n",
       "      <td id=\"T_0f7be_row6_col6\" class=\"data row6 col6\" >0.0246</td>\n",
       "    </tr>\n",
       "  </tbody>\n",
       "</table>\n"
      ],
      "text/plain": [
       "<pandas.io.formats.style.Styler at 0x7fe96ec2b1f0>"
      ]
     },
     "metadata": {},
     "output_type": "display_data"
    }
   ],
   "source": [
    "gbc = create_model('gbc', fold = 5)"
   ]
  },
  {
   "attachments": {},
   "cell_type": "markdown",
   "id": "22ab7ba2",
   "metadata": {},
   "source": [
    "#### Realizando o tunning do modelo."
   ]
  },
  {
   "cell_type": "code",
   "execution_count": 62,
   "id": "3f02f806",
   "metadata": {
    "scrolled": true,
    "tags": []
   },
   "outputs": [
    {
     "data": {
      "text/html": [
       "<div>\n",
       "<style scoped>\n",
       "    .dataframe tbody tr th:only-of-type {\n",
       "        vertical-align: middle;\n",
       "    }\n",
       "\n",
       "    .dataframe tbody tr th {\n",
       "        vertical-align: top;\n",
       "    }\n",
       "\n",
       "    .dataframe thead th {\n",
       "        text-align: right;\n",
       "    }\n",
       "</style>\n",
       "<table border=\"1\" class=\"dataframe\">\n",
       "  <thead>\n",
       "    <tr style=\"text-align: right;\">\n",
       "      <th></th>\n",
       "      <th></th>\n",
       "      <th></th>\n",
       "    </tr>\n",
       "    <tr>\n",
       "      <th></th>\n",
       "      <th></th>\n",
       "      <th></th>\n",
       "    </tr>\n",
       "  </thead>\n",
       "  <tbody>\n",
       "    <tr>\n",
       "      <th>Initiated</th>\n",
       "      <td>. . . . . . . . . . . . . . . . . .</td>\n",
       "      <td>19:28:41</td>\n",
       "    </tr>\n",
       "    <tr>\n",
       "      <th>Status</th>\n",
       "      <td>. . . . . . . . . . . . . . . . . .</td>\n",
       "      <td>Loading Dependencies</td>\n",
       "    </tr>\n",
       "    <tr>\n",
       "      <th>Estimator</th>\n",
       "      <td>. . . . . . . . . . . . . . . . . .</td>\n",
       "      <td>Compiling Library</td>\n",
       "    </tr>\n",
       "  </tbody>\n",
       "</table>\n",
       "</div>"
      ],
      "text/plain": [
       "                                                                    \n",
       "                                                                    \n",
       "Initiated  . . . . . . . . . . . . . . . . . .              19:28:41\n",
       "Status     . . . . . . . . . . . . . . . . . .  Loading Dependencies\n",
       "Estimator  . . . . . . . . . . . . . . . . . .     Compiling Library"
      ]
     },
     "metadata": {},
     "output_type": "display_data"
    },
    {
     "data": {
      "text/html": [
       "<style type=\"text/css\">\n",
       "#T_2cd87_row5_col0, #T_2cd87_row5_col1, #T_2cd87_row5_col2, #T_2cd87_row5_col3, #T_2cd87_row5_col4, #T_2cd87_row5_col5, #T_2cd87_row5_col6 {\n",
       "  background: yellow;\n",
       "}\n",
       "</style>\n",
       "<table id=\"T_2cd87\">\n",
       "  <thead>\n",
       "    <tr>\n",
       "      <th class=\"blank level0\" >&nbsp;</th>\n",
       "      <th id=\"T_2cd87_level0_col0\" class=\"col_heading level0 col0\" >Accuracy</th>\n",
       "      <th id=\"T_2cd87_level0_col1\" class=\"col_heading level0 col1\" >AUC</th>\n",
       "      <th id=\"T_2cd87_level0_col2\" class=\"col_heading level0 col2\" >Recall</th>\n",
       "      <th id=\"T_2cd87_level0_col3\" class=\"col_heading level0 col3\" >Prec.</th>\n",
       "      <th id=\"T_2cd87_level0_col4\" class=\"col_heading level0 col4\" >F1</th>\n",
       "      <th id=\"T_2cd87_level0_col5\" class=\"col_heading level0 col5\" >Kappa</th>\n",
       "      <th id=\"T_2cd87_level0_col6\" class=\"col_heading level0 col6\" >MCC</th>\n",
       "    </tr>\n",
       "    <tr>\n",
       "      <th class=\"index_name level0\" >Fold</th>\n",
       "      <th class=\"blank col0\" >&nbsp;</th>\n",
       "      <th class=\"blank col1\" >&nbsp;</th>\n",
       "      <th class=\"blank col2\" >&nbsp;</th>\n",
       "      <th class=\"blank col3\" >&nbsp;</th>\n",
       "      <th class=\"blank col4\" >&nbsp;</th>\n",
       "      <th class=\"blank col5\" >&nbsp;</th>\n",
       "      <th class=\"blank col6\" >&nbsp;</th>\n",
       "    </tr>\n",
       "  </thead>\n",
       "  <tbody>\n",
       "    <tr>\n",
       "      <th id=\"T_2cd87_level0_row0\" class=\"row_heading level0 row0\" >0</th>\n",
       "      <td id=\"T_2cd87_row0_col0\" class=\"data row0 col0\" >0.8510</td>\n",
       "      <td id=\"T_2cd87_row0_col1\" class=\"data row0 col1\" >0.8138</td>\n",
       "      <td id=\"T_2cd87_row0_col2\" class=\"data row0 col2\" >0.6880</td>\n",
       "      <td id=\"T_2cd87_row0_col3\" class=\"data row0 col3\" >0.6866</td>\n",
       "      <td id=\"T_2cd87_row0_col4\" class=\"data row0 col4\" >0.6873</td>\n",
       "      <td id=\"T_2cd87_row0_col5\" class=\"data row0 col5\" >0.5895</td>\n",
       "      <td id=\"T_2cd87_row0_col6\" class=\"data row0 col6\" >0.5895</td>\n",
       "    </tr>\n",
       "    <tr>\n",
       "      <th id=\"T_2cd87_level0_row1\" class=\"row_heading level0 row1\" >1</th>\n",
       "      <td id=\"T_2cd87_row1_col0\" class=\"data row1 col0\" >0.8652</td>\n",
       "      <td id=\"T_2cd87_row1_col1\" class=\"data row1 col1\" >0.8271</td>\n",
       "      <td id=\"T_2cd87_row1_col2\" class=\"data row1 col2\" >0.7280</td>\n",
       "      <td id=\"T_2cd87_row1_col3\" class=\"data row1 col3\" >0.7123</td>\n",
       "      <td id=\"T_2cd87_row1_col4\" class=\"data row1 col4\" >0.7201</td>\n",
       "      <td id=\"T_2cd87_row1_col5\" class=\"data row1 col5\" >0.6314</td>\n",
       "      <td id=\"T_2cd87_row1_col6\" class=\"data row1 col6\" >0.6314</td>\n",
       "    </tr>\n",
       "    <tr>\n",
       "      <th id=\"T_2cd87_level0_row2\" class=\"row_heading level0 row2\" >2</th>\n",
       "      <td id=\"T_2cd87_row2_col0\" class=\"data row2 col0\" >0.8557</td>\n",
       "      <td id=\"T_2cd87_row2_col1\" class=\"data row2 col1\" >0.8117</td>\n",
       "      <td id=\"T_2cd87_row2_col2\" class=\"data row2 col2\" >0.7000</td>\n",
       "      <td id=\"T_2cd87_row2_col3\" class=\"data row2 col3\" >0.6958</td>\n",
       "      <td id=\"T_2cd87_row2_col4\" class=\"data row2 col4\" >0.6979</td>\n",
       "      <td id=\"T_2cd87_row2_col5\" class=\"data row2 col5\" >0.6031</td>\n",
       "      <td id=\"T_2cd87_row2_col6\" class=\"data row2 col6\" >0.6031</td>\n",
       "    </tr>\n",
       "    <tr>\n",
       "      <th id=\"T_2cd87_level0_row3\" class=\"row_heading level0 row3\" >3</th>\n",
       "      <td id=\"T_2cd87_row3_col0\" class=\"data row3 col0\" >0.8390</td>\n",
       "      <td id=\"T_2cd87_row3_col1\" class=\"data row3 col1\" >0.8096</td>\n",
       "      <td id=\"T_2cd87_row3_col2\" class=\"data row3 col2\" >0.6814</td>\n",
       "      <td id=\"T_2cd87_row3_col3\" class=\"data row3 col3\" >0.6551</td>\n",
       "      <td id=\"T_2cd87_row3_col4\" class=\"data row3 col4\" >0.6680</td>\n",
       "      <td id=\"T_2cd87_row3_col5\" class=\"data row3 col5\" >0.5617</td>\n",
       "      <td id=\"T_2cd87_row3_col6\" class=\"data row3 col6\" >0.5619</td>\n",
       "    </tr>\n",
       "    <tr>\n",
       "      <th id=\"T_2cd87_level0_row4\" class=\"row_heading level0 row4\" >4</th>\n",
       "      <td id=\"T_2cd87_row4_col0\" class=\"data row4 col0\" >0.8399</td>\n",
       "      <td id=\"T_2cd87_row4_col1\" class=\"data row4 col1\" >0.8125</td>\n",
       "      <td id=\"T_2cd87_row4_col2\" class=\"data row4 col2\" >0.6840</td>\n",
       "      <td id=\"T_2cd87_row4_col3\" class=\"data row4 col3\" >0.6577</td>\n",
       "      <td id=\"T_2cd87_row4_col4\" class=\"data row4 col4\" >0.6706</td>\n",
       "      <td id=\"T_2cd87_row4_col5\" class=\"data row4 col5\" >0.5649</td>\n",
       "      <td id=\"T_2cd87_row4_col6\" class=\"data row4 col6\" >0.5651</td>\n",
       "    </tr>\n",
       "    <tr>\n",
       "      <th id=\"T_2cd87_level0_row5\" class=\"row_heading level0 row5\" >Mean</th>\n",
       "      <td id=\"T_2cd87_row5_col0\" class=\"data row5 col0\" >0.8502</td>\n",
       "      <td id=\"T_2cd87_row5_col1\" class=\"data row5 col1\" >0.8149</td>\n",
       "      <td id=\"T_2cd87_row5_col2\" class=\"data row5 col2\" >0.6963</td>\n",
       "      <td id=\"T_2cd87_row5_col3\" class=\"data row5 col3\" >0.6815</td>\n",
       "      <td id=\"T_2cd87_row5_col4\" class=\"data row5 col4\" >0.6888</td>\n",
       "      <td id=\"T_2cd87_row5_col5\" class=\"data row5 col5\" >0.5901</td>\n",
       "      <td id=\"T_2cd87_row5_col6\" class=\"data row5 col6\" >0.5902</td>\n",
       "    </tr>\n",
       "    <tr>\n",
       "      <th id=\"T_2cd87_level0_row6\" class=\"row_heading level0 row6\" >Std</th>\n",
       "      <td id=\"T_2cd87_row6_col0\" class=\"data row6 col0\" >0.0099</td>\n",
       "      <td id=\"T_2cd87_row6_col1\" class=\"data row6 col1\" >0.0062</td>\n",
       "      <td id=\"T_2cd87_row6_col2\" class=\"data row6 col2\" >0.0171</td>\n",
       "      <td id=\"T_2cd87_row6_col3\" class=\"data row6 col3\" >0.0221</td>\n",
       "      <td id=\"T_2cd87_row6_col4\" class=\"data row6 col4\" >0.0191</td>\n",
       "      <td id=\"T_2cd87_row6_col5\" class=\"data row6 col5\" >0.0257</td>\n",
       "      <td id=\"T_2cd87_row6_col6\" class=\"data row6 col6\" >0.0257</td>\n",
       "    </tr>\n",
       "  </tbody>\n",
       "</table>\n"
      ],
      "text/plain": [
       "<pandas.io.formats.style.Styler at 0x7fe96ed16b50>"
      ]
     },
     "metadata": {},
     "output_type": "display_data"
    },
    {
     "data": {
      "application/vnd.jupyter.widget-view+json": {
       "model_id": "aae358b9db6941978f27b8d8f304a3a5",
       "version_major": 2,
       "version_minor": 0
      },
      "text/plain": [
       "Processing:   0%|          | 0/7 [00:00<?, ?it/s]"
      ]
     },
     "metadata": {},
     "output_type": "display_data"
    },
    {
     "name": "stdout",
     "output_type": "stream",
     "text": [
      "Fitting 5 folds for each of 10 candidates, totalling 50 fits\n"
     ]
    }
   ],
   "source": [
    "tuned_gbc = tune_model(gbc\n",
    "                      ,fold = 5\n",
    "                      ,custom_grid = {\n",
    "                                      \"learning_rate\":[0.1,0.2,0.5]\n",
    "                                     ,\"n_estimators\":[100,500,1000]\n",
    "                                     ,\"min_samples_split\":[1,2,5,10]\n",
    "                                     ,\"max_depth\":[1,3,9]\n",
    "                                     }\n",
    "                      ,optimize = 'AUC')"
   ]
  },
  {
   "attachments": {},
   "cell_type": "markdown",
   "id": "b498f3ab",
   "metadata": {},
   "source": [
    "#### Finalizando o modelo."
   ]
  },
  {
   "cell_type": "code",
   "execution_count": 63,
   "id": "3b110ac6",
   "metadata": {},
   "outputs": [],
   "source": [
    "final_model = finalize_model(gbc)"
   ]
  },
  {
   "cell_type": "code",
   "execution_count": 64,
   "id": "d0a246f8",
   "metadata": {},
   "outputs": [
    {
     "name": "stdout",
     "output_type": "stream",
     "text": [
      "Transformation Pipeline and Model Successfully Saved\n"
     ]
    },
    {
     "data": {
      "text/plain": [
       "(Pipeline(memory=FastMemory(location=/tmp/joblib),\n",
       "          steps=[('numerical_imputer',\n",
       "                  TransformerWrapper(exclude=None, include=['yearsAtCompany'],\n",
       "                                     transformer=SimpleImputer(add_indicator=False,\n",
       "                                                               copy=True,\n",
       "                                                               fill_value=None,\n",
       "                                                               missing_values=nan,\n",
       "                                                               strategy='mean',\n",
       "                                                               verbose=0))),\n",
       "                 ('categorical_imputer',\n",
       "                  TransformerWrapper(exclude=None, include=[],\n",
       "                                     transformer=SimpleImputer(ad...\n",
       "                                             criterion='friedman_mse', init=None,\n",
       "                                             learning_rate=0.1, loss='deviance',\n",
       "                                             max_depth=3, max_features=None,\n",
       "                                             max_leaf_nodes=None,\n",
       "                                             min_impurity_decrease=0.0,\n",
       "                                             min_samples_leaf=1,\n",
       "                                             min_samples_split=2,\n",
       "                                             min_weight_fraction_leaf=0.0,\n",
       "                                             n_estimators=100,\n",
       "                                             n_iter_no_change=None,\n",
       "                                             random_state=314, subsample=1.0,\n",
       "                                             tol=0.0001, validation_fraction=0.1,\n",
       "                                             verbose=0, warm_start=False))],\n",
       "          verbose=False),\n",
       " 'model.pkl')"
      ]
     },
     "execution_count": 64,
     "metadata": {},
     "output_type": "execute_result"
    }
   ],
   "source": [
    "save_model(final_model,'model')"
   ]
  },
  {
   "attachments": {},
   "cell_type": "markdown",
   "id": "a87ed577",
   "metadata": {},
   "source": [
    "#### Transferindo os arquivos para o Data Lake."
   ]
  },
  {
   "attachments": {},
   "cell_type": "markdown",
   "id": "3e254c1c",
   "metadata": {},
   "source": [
    "#### Modelo de Classificação."
   ]
  },
  {
   "cell_type": "code",
   "execution_count": 65,
   "id": "b438b749",
   "metadata": {},
   "outputs": [
    {
     "data": {
      "text/plain": [
       "<minio.helpers.ObjectWriteResult at 0x7fe9901db520>"
      ]
     },
     "execution_count": 65,
     "metadata": {},
     "output_type": "execute_result"
    }
   ],
   "source": [
    "client.fput_object(\n",
    "    \"curated\",\n",
    "    \"model.pkl\",\n",
    "    \"model.pkl\"\n",
    ")"
   ]
  },
  {
   "attachments": {},
   "cell_type": "markdown",
   "id": "c8fa009d",
   "metadata": {},
   "source": [
    "#### Exportando o conjunto de dados para o disco."
   ]
  },
  {
   "cell_type": "code",
   "execution_count": 66,
   "id": "a65fc51b",
   "metadata": {
    "scrolled": true
   },
   "outputs": [],
   "source": [
    "df.to_csv(\"dataset.csv\",index=False)"
   ]
  },
  {
   "cell_type": "code",
   "execution_count": 67,
   "id": "bc43bf6c",
   "metadata": {},
   "outputs": [
    {
     "data": {
      "text/plain": [
       "<minio.helpers.ObjectWriteResult at 0x7fe96edc1fd0>"
      ]
     },
     "execution_count": 67,
     "metadata": {},
     "output_type": "execute_result"
    }
   ],
   "source": [
    "client.fput_object(\n",
    "    \"curated\",\n",
    "    \"dataset.csv\",\n",
    "    \"dataset.csv\"\n",
    ")"
   ]
  }
 ],
 "metadata": {
  "kernelspec": {
   "display_name": "Python 3",
   "language": "python",
   "name": "python3"
  },
  "language_info": {
   "codemirror_mode": {
    "name": "ipython",
    "version": 3
   },
   "file_extension": ".py",
   "mimetype": "text/x-python",
   "name": "python",
   "nbconvert_exporter": "python",
   "pygments_lexer": "ipython3",
   "version": "3.9.13"
  }
 },
 "nbformat": 4,
 "nbformat_minor": 5
}
